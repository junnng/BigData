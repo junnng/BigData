{
  "nbformat": 4,
  "nbformat_minor": 0,
  "metadata": {
    "colab": {
      "name": "corona_rnn.ipynb",
      "provenance": [],
      "collapsed_sections": []
    },
    "kernelspec": {
      "name": "python3",
      "display_name": "Python 3"
    },
    "language_info": {
      "name": "python"
    }
  },
  "cells": [
    {
      "cell_type": "code",
      "execution_count": 2,
      "metadata": {
        "id": "znXT1WWlUWP0"
      },
      "outputs": [],
      "source": [
        "from keras.models import Sequential\n",
        "from keras.layers import SimpleRNN, Dense\n",
        "from sklearn.preprocessing import MinMaxScaler\n",
        "from sklearn.metrics import mean_squared_error\n",
        "from sklearn.model_selection import train_test_split\n",
        "import math\n",
        "import numpy as np\n",
        "import matplotlib.pyplot as plt\n",
        "from pandas import read_csv"
      ]
    },
    {
      "cell_type": "code",
      "source": [
        "!git clone https://github.com/jamsuham75/deeplearning.git\n",
        "dataframe = read_csv('/content/deeplearning/corona_daily.csv', usecols=[3], engine='python', skipfooter=3)\n",
        "print(dataframe)\n",
        "dataset = dataframe.values\n",
        "dataset = dataset.astype('float32')"
      ],
      "metadata": {
        "colab": {
          "base_uri": "https://localhost:8080/"
        },
        "id": "rTxWgxZMWXFU",
        "outputId": "d1c6ece6-442e-4d35-934b-835da8cf9f8c"
      },
      "execution_count": 3,
      "outputs": [
        {
          "output_type": "stream",
          "name": "stdout",
          "text": [
            "Cloning into 'deeplearning'...\n",
            "remote: Enumerating objects: 3, done.\u001b[K\n",
            "remote: Counting objects: 100% (3/3), done.\u001b[K\n",
            "remote: Compressing objects: 100% (2/2), done.\u001b[K\n",
            "remote: Total 3 (delta 0), reused 0 (delta 0), pack-reused 0\u001b[K\n",
            "Unpacking objects: 100% (3/3), done.\n",
            "     Confirmed\n",
            "0           24\n",
            "1           24\n",
            "2           27\n",
            "3           27\n",
            "4           28\n",
            "..         ...\n",
            "107      11190\n",
            "108      11206\n",
            "109      11225\n",
            "110      11265\n",
            "111      11344\n",
            "\n",
            "[112 rows x 1 columns]\n"
          ]
        }
      ]
    },
    {
      "cell_type": "code",
      "source": [
        "scaler = MinMaxScaler(feature_range=(0,1))\n",
        "Dataset = scaler.fit_transform(dataset)\n",
        "train_data, test_data = train_test_split(Dataset, test_size=0.2, shuffle=False)\n",
        "print(len(train_data), len(test_data))"
      ],
      "metadata": {
        "colab": {
          "base_uri": "https://localhost:8080/"
        },
        "id": "HjyIO7cScSTI",
        "outputId": "be88c7cb-29d5-4ab6-ca50-ec55ddb0375b"
      },
      "execution_count": 4,
      "outputs": [
        {
          "output_type": "stream",
          "name": "stdout",
          "text": [
            "89 23\n"
          ]
        }
      ]
    },
    {
      "cell_type": "code",
      "source": [
        "def create_dataset(dataset, look_back):\n",
        "  x_data = []\n",
        "  y_data = []\n",
        "  for i in range(len(dataset)-look_back):\n",
        "    data = dataset[i:(i+look_back),0]\n",
        "    x_data.append(data)\n",
        "    y_data.append(dataset[i+look_back, 0])\n",
        "  return np.array(x_data), np.array(y_data)\n"
      ],
      "metadata": {
        "id": "BZg6OJ1ufvOZ"
      },
      "execution_count": 5,
      "outputs": []
    },
    {
      "cell_type": "code",
      "source": [
        "look_back = 3\n",
        "x_train, y_train = create_dataset(train_data, look_back)\n",
        "x_test, y_test = create_dataset(test_data, look_back)\n",
        "\n",
        "print(x_train.shape, y_train.shape)\n",
        "print(x_test.shape, y_test.shape)"
      ],
      "metadata": {
        "colab": {
          "base_uri": "https://localhost:8080/"
        },
        "id": "wcoSaWYkiAmV",
        "outputId": "325ac2c1-2c13-4f18-f8be-1cfa9e03e247"
      },
      "execution_count": 6,
      "outputs": [
        {
          "output_type": "stream",
          "name": "stdout",
          "text": [
            "(86, 3) (86,)\n",
            "(20, 3) (20,)\n"
          ]
        }
      ]
    },
    {
      "cell_type": "code",
      "source": [
        "X_train = np.reshape(x_train, (x_train.shape[0], 1, x_train.shape[1]))\n",
        "X_test = np.reshape(x_test, (x_test.shape[0], 1, x_test.shape[1]))\n",
        "\n",
        "print(X_train.shape)\n",
        "print(X_test.shape)"
      ],
      "metadata": {
        "colab": {
          "base_uri": "https://localhost:8080/"
        },
        "id": "3VbOqFFHlo_T",
        "outputId": "7ab814a4-9b42-4ebc-c634-44c962102df7"
      },
      "execution_count": 7,
      "outputs": [
        {
          "output_type": "stream",
          "name": "stdout",
          "text": [
            "(86, 1, 3)\n",
            "(20, 1, 3)\n"
          ]
        }
      ]
    },
    {
      "cell_type": "code",
      "source": [
        "model = Sequential()\n",
        "model.add(SimpleRNN(3, input_shape = (1, look_back)))\n",
        "model.add(Dense(1, activation=\"linear\"))"
      ],
      "metadata": {
        "id": "LwG6i3ASrHiz"
      },
      "execution_count": 8,
      "outputs": []
    },
    {
      "cell_type": "code",
      "source": [
        "model.compile(loss = 'mse', optimizer='sgd')\n",
        "model.summary()"
      ],
      "metadata": {
        "colab": {
          "base_uri": "https://localhost:8080/"
        },
        "id": "7TBzm8HPsDkB",
        "outputId": "c567438f-283a-42bf-8e3d-dda0fa5ed3d9"
      },
      "execution_count": 9,
      "outputs": [
        {
          "output_type": "stream",
          "name": "stdout",
          "text": [
            "Model: \"sequential\"\n",
            "_________________________________________________________________\n",
            " Layer (type)                Output Shape              Param #   \n",
            "=================================================================\n",
            " simple_rnn (SimpleRNN)      (None, 3)                 21        \n",
            "                                                                 \n",
            " dense (Dense)               (None, 1)                 4         \n",
            "                                                                 \n",
            "=================================================================\n",
            "Total params: 25\n",
            "Trainable params: 25\n",
            "Non-trainable params: 0\n",
            "_________________________________________________________________\n"
          ]
        }
      ]
    },
    {
      "cell_type": "code",
      "source": [
        "model.fit(X_train, y_train, epochs = 100, batch_size=1, verbose=1)"
      ],
      "metadata": {
        "colab": {
          "base_uri": "https://localhost:8080/"
        },
        "id": "IxVuFTP-s5S6",
        "outputId": "77d33c3a-c9f6-45b6-aa06-8ee53ba1cba0"
      },
      "execution_count": 10,
      "outputs": [
        {
          "output_type": "stream",
          "name": "stdout",
          "text": [
            "Epoch 1/100\n",
            "86/86 [==============================] - 1s 2ms/step - loss: 0.2007\n",
            "Epoch 2/100\n",
            "86/86 [==============================] - 0s 1ms/step - loss: 0.0313\n",
            "Epoch 3/100\n",
            "86/86 [==============================] - 0s 1ms/step - loss: 0.0162\n",
            "Epoch 4/100\n",
            "86/86 [==============================] - 0s 2ms/step - loss: 0.0081\n",
            "Epoch 5/100\n",
            "86/86 [==============================] - 0s 1ms/step - loss: 0.0040\n",
            "Epoch 6/100\n",
            "86/86 [==============================] - 0s 1ms/step - loss: 0.0022\n",
            "Epoch 7/100\n",
            "86/86 [==============================] - 0s 1ms/step - loss: 0.0014\n",
            "Epoch 8/100\n",
            "86/86 [==============================] - 0s 2ms/step - loss: 0.0011\n",
            "Epoch 9/100\n",
            "86/86 [==============================] - 0s 1ms/step - loss: 8.8300e-04\n",
            "Epoch 10/100\n",
            "86/86 [==============================] - 0s 1ms/step - loss: 8.0035e-04\n",
            "Epoch 11/100\n",
            "86/86 [==============================] - 0s 2ms/step - loss: 8.0358e-04\n",
            "Epoch 12/100\n",
            "86/86 [==============================] - 0s 1ms/step - loss: 7.8105e-04\n",
            "Epoch 13/100\n",
            "86/86 [==============================] - 0s 2ms/step - loss: 7.7266e-04\n",
            "Epoch 14/100\n",
            "86/86 [==============================] - 0s 1ms/step - loss: 7.6181e-04\n",
            "Epoch 15/100\n",
            "86/86 [==============================] - 0s 2ms/step - loss: 7.1434e-04\n",
            "Epoch 16/100\n",
            "86/86 [==============================] - 0s 1ms/step - loss: 7.3001e-04\n",
            "Epoch 17/100\n",
            "86/86 [==============================] - 0s 2ms/step - loss: 7.3394e-04\n",
            "Epoch 18/100\n",
            "86/86 [==============================] - 0s 1ms/step - loss: 7.2372e-04\n",
            "Epoch 19/100\n",
            "86/86 [==============================] - 0s 1ms/step - loss: 7.3150e-04\n",
            "Epoch 20/100\n",
            "86/86 [==============================] - 0s 1ms/step - loss: 7.1717e-04\n",
            "Epoch 21/100\n",
            "86/86 [==============================] - 0s 1ms/step - loss: 7.1995e-04\n",
            "Epoch 22/100\n",
            "86/86 [==============================] - 0s 1ms/step - loss: 6.9979e-04\n",
            "Epoch 23/100\n",
            "86/86 [==============================] - 0s 1ms/step - loss: 7.0592e-04\n",
            "Epoch 24/100\n",
            "86/86 [==============================] - 0s 1ms/step - loss: 6.8576e-04\n",
            "Epoch 25/100\n",
            "86/86 [==============================] - 0s 2ms/step - loss: 6.8520e-04\n",
            "Epoch 26/100\n",
            "86/86 [==============================] - 0s 1ms/step - loss: 6.7149e-04\n",
            "Epoch 27/100\n",
            "86/86 [==============================] - 0s 1ms/step - loss: 6.8041e-04\n",
            "Epoch 28/100\n",
            "86/86 [==============================] - 0s 1ms/step - loss: 6.4830e-04\n",
            "Epoch 29/100\n",
            "86/86 [==============================] - 0s 1ms/step - loss: 6.8303e-04\n",
            "Epoch 30/100\n",
            "86/86 [==============================] - 0s 1ms/step - loss: 6.6187e-04\n",
            "Epoch 31/100\n",
            "86/86 [==============================] - 0s 1ms/step - loss: 6.5158e-04\n",
            "Epoch 32/100\n",
            "86/86 [==============================] - 0s 1ms/step - loss: 6.5221e-04\n",
            "Epoch 33/100\n",
            "86/86 [==============================] - 0s 1ms/step - loss: 6.5078e-04\n",
            "Epoch 34/100\n",
            "86/86 [==============================] - 0s 1ms/step - loss: 6.5108e-04\n",
            "Epoch 35/100\n",
            "86/86 [==============================] - 0s 2ms/step - loss: 6.4427e-04\n",
            "Epoch 36/100\n",
            "86/86 [==============================] - 0s 1ms/step - loss: 6.4131e-04\n",
            "Epoch 37/100\n",
            "86/86 [==============================] - 0s 1ms/step - loss: 6.2711e-04\n",
            "Epoch 38/100\n",
            "86/86 [==============================] - 0s 2ms/step - loss: 6.2639e-04\n",
            "Epoch 39/100\n",
            "86/86 [==============================] - 0s 1ms/step - loss: 6.2866e-04\n",
            "Epoch 40/100\n",
            "86/86 [==============================] - 0s 1ms/step - loss: 6.1878e-04\n",
            "Epoch 41/100\n",
            "86/86 [==============================] - 0s 1ms/step - loss: 6.0609e-04\n",
            "Epoch 42/100\n",
            "86/86 [==============================] - 0s 1ms/step - loss: 6.1805e-04\n",
            "Epoch 43/100\n",
            "86/86 [==============================] - 0s 1ms/step - loss: 5.9923e-04\n",
            "Epoch 44/100\n",
            "86/86 [==============================] - 0s 1ms/step - loss: 6.0910e-04\n",
            "Epoch 45/100\n",
            "86/86 [==============================] - 0s 1ms/step - loss: 5.9775e-04\n",
            "Epoch 46/100\n",
            "86/86 [==============================] - 0s 2ms/step - loss: 6.1306e-04\n",
            "Epoch 47/100\n",
            "86/86 [==============================] - 0s 1ms/step - loss: 6.0209e-04\n",
            "Epoch 48/100\n",
            "86/86 [==============================] - 0s 1ms/step - loss: 5.9593e-04\n",
            "Epoch 49/100\n",
            "86/86 [==============================] - 0s 1ms/step - loss: 5.9570e-04\n",
            "Epoch 50/100\n",
            "86/86 [==============================] - 0s 1ms/step - loss: 5.9626e-04\n",
            "Epoch 51/100\n",
            "86/86 [==============================] - 0s 1ms/step - loss: 5.6819e-04\n",
            "Epoch 52/100\n",
            "86/86 [==============================] - 0s 1ms/step - loss: 5.7265e-04\n",
            "Epoch 53/100\n",
            "86/86 [==============================] - 0s 1ms/step - loss: 5.8514e-04\n",
            "Epoch 54/100\n",
            "86/86 [==============================] - 0s 1ms/step - loss: 5.7612e-04\n",
            "Epoch 55/100\n",
            "86/86 [==============================] - 0s 1ms/step - loss: 5.8647e-04\n",
            "Epoch 56/100\n",
            "86/86 [==============================] - 0s 1ms/step - loss: 5.6380e-04\n",
            "Epoch 57/100\n",
            "86/86 [==============================] - 0s 1ms/step - loss: 5.7532e-04\n",
            "Epoch 58/100\n",
            "86/86 [==============================] - 0s 2ms/step - loss: 5.7469e-04\n",
            "Epoch 59/100\n",
            "86/86 [==============================] - 0s 1ms/step - loss: 5.5464e-04\n",
            "Epoch 60/100\n",
            "86/86 [==============================] - 0s 1ms/step - loss: 5.6196e-04\n",
            "Epoch 61/100\n",
            "86/86 [==============================] - 0s 2ms/step - loss: 5.6650e-04\n",
            "Epoch 62/100\n",
            "86/86 [==============================] - 0s 1ms/step - loss: 5.6113e-04\n",
            "Epoch 63/100\n",
            "86/86 [==============================] - 0s 1ms/step - loss: 5.6511e-04\n",
            "Epoch 64/100\n",
            "86/86 [==============================] - 0s 1ms/step - loss: 5.5386e-04\n",
            "Epoch 65/100\n",
            "86/86 [==============================] - 0s 1ms/step - loss: 5.4582e-04\n",
            "Epoch 66/100\n",
            "86/86 [==============================] - 0s 2ms/step - loss: 5.5914e-04\n",
            "Epoch 67/100\n",
            "86/86 [==============================] - 0s 1ms/step - loss: 5.5087e-04\n",
            "Epoch 68/100\n",
            "86/86 [==============================] - 0s 2ms/step - loss: 5.5434e-04\n",
            "Epoch 69/100\n",
            "86/86 [==============================] - 0s 2ms/step - loss: 5.4708e-04\n",
            "Epoch 70/100\n",
            "86/86 [==============================] - 0s 1ms/step - loss: 5.4178e-04\n",
            "Epoch 71/100\n",
            "86/86 [==============================] - 0s 1ms/step - loss: 5.5259e-04\n",
            "Epoch 72/100\n",
            "86/86 [==============================] - 0s 2ms/step - loss: 5.4444e-04\n",
            "Epoch 73/100\n",
            "86/86 [==============================] - 0s 2ms/step - loss: 5.4096e-04\n",
            "Epoch 74/100\n",
            "86/86 [==============================] - 0s 2ms/step - loss: 5.3781e-04\n",
            "Epoch 75/100\n",
            "86/86 [==============================] - 0s 1ms/step - loss: 5.3782e-04\n",
            "Epoch 76/100\n",
            "86/86 [==============================] - 0s 1ms/step - loss: 5.2832e-04\n",
            "Epoch 77/100\n",
            "86/86 [==============================] - 0s 1ms/step - loss: 5.4048e-04\n",
            "Epoch 78/100\n",
            "86/86 [==============================] - 0s 1ms/step - loss: 5.3356e-04\n",
            "Epoch 79/100\n",
            "86/86 [==============================] - 0s 2ms/step - loss: 5.3430e-04\n",
            "Epoch 80/100\n",
            "86/86 [==============================] - 0s 1ms/step - loss: 5.3105e-04\n",
            "Epoch 81/100\n",
            "86/86 [==============================] - 0s 2ms/step - loss: 5.2411e-04\n",
            "Epoch 82/100\n",
            "86/86 [==============================] - 0s 1ms/step - loss: 5.1771e-04\n",
            "Epoch 83/100\n",
            "86/86 [==============================] - 0s 1ms/step - loss: 5.2691e-04\n",
            "Epoch 84/100\n",
            "86/86 [==============================] - 0s 1ms/step - loss: 5.1673e-04\n",
            "Epoch 85/100\n",
            "86/86 [==============================] - 0s 1ms/step - loss: 5.2040e-04\n",
            "Epoch 86/100\n",
            "86/86 [==============================] - 0s 2ms/step - loss: 5.1370e-04\n",
            "Epoch 87/100\n",
            "86/86 [==============================] - 0s 2ms/step - loss: 5.0699e-04\n",
            "Epoch 88/100\n",
            "86/86 [==============================] - 0s 2ms/step - loss: 5.2705e-04\n",
            "Epoch 89/100\n",
            "86/86 [==============================] - 0s 1ms/step - loss: 5.1347e-04\n",
            "Epoch 90/100\n",
            "86/86 [==============================] - 0s 2ms/step - loss: 5.2244e-04\n",
            "Epoch 91/100\n",
            "86/86 [==============================] - 0s 2ms/step - loss: 5.1002e-04\n",
            "Epoch 92/100\n",
            "86/86 [==============================] - 0s 1ms/step - loss: 5.0313e-04\n",
            "Epoch 93/100\n",
            "86/86 [==============================] - 0s 1ms/step - loss: 5.1623e-04\n",
            "Epoch 94/100\n",
            "86/86 [==============================] - 0s 1ms/step - loss: 5.1497e-04\n",
            "Epoch 95/100\n",
            "86/86 [==============================] - 0s 2ms/step - loss: 5.1817e-04\n",
            "Epoch 96/100\n",
            "86/86 [==============================] - 0s 2ms/step - loss: 5.1711e-04\n",
            "Epoch 97/100\n",
            "86/86 [==============================] - 0s 1ms/step - loss: 5.1393e-04\n",
            "Epoch 98/100\n",
            "86/86 [==============================] - 0s 1ms/step - loss: 5.0899e-04\n",
            "Epoch 99/100\n",
            "86/86 [==============================] - 0s 1ms/step - loss: 5.0562e-04\n",
            "Epoch 100/100\n",
            "86/86 [==============================] - 0s 1ms/step - loss: 4.9698e-04\n"
          ]
        },
        {
          "output_type": "execute_result",
          "data": {
            "text/plain": [
              "<keras.callbacks.History at 0x7f46a0e8f690>"
            ]
          },
          "metadata": {},
          "execution_count": 10
        }
      ]
    },
    {
      "cell_type": "code",
      "source": [
        "trainPredict = model.predict(X_train)\n",
        "testPredict = model.predict(X_test)\n",
        "TrainPredict = scaler.inverse_transform(trainPredict)\n",
        "Y_train = scaler.inverse_transform([y_train])\n",
        "TestPredict = scaler.inverse_transform(testPredict)\n",
        "Y_test = scaler.inverse_transform([y_test])\n",
        "print(trainPredict)\n",
        "print(TrainPredict)\n",
        "# print(len(TestPredict))\n",
        "# print(len(testPredict))"
      ],
      "metadata": {
        "colab": {
          "base_uri": "https://localhost:8080/"
        },
        "id": "U5Rxp-xMvtZJ",
        "outputId": "08bf9778-ab50-4e83-b108-77716408a34c"
      },
      "execution_count": 13,
      "outputs": [
        {
          "output_type": "stream",
          "name": "stdout",
          "text": [
            "[[0.01213841]\n",
            " [0.01207586]\n",
            " [0.0123439 ]\n",
            " [0.01232305]\n",
            " [0.01239243]\n",
            " [0.01239243]\n",
            " [0.01239243]\n",
            " [0.01245238]\n",
            " [0.01249149]\n",
            " [0.01259995]\n",
            " [0.01384789]\n",
            " [0.01668058]\n",
            " [0.0229733 ]\n",
            " [0.03838386]\n",
            " [0.05073132]\n",
            " [0.07721723]\n",
            " [0.0928336 ]\n",
            " [0.12333623]\n",
            " [0.15805352]\n",
            " [0.2011815 ]\n",
            " [0.27194923]\n",
            " [0.32536688]\n",
            " [0.39264065]\n",
            " [0.45240685]\n",
            " [0.494847  ]\n",
            " [0.5416682 ]\n",
            " [0.5877538 ]\n",
            " [0.62355256]\n",
            " [0.6581368 ]\n",
            " [0.6872225 ]\n",
            " [0.70701826]\n",
            " [0.7277055 ]\n",
            " [0.7335737 ]\n",
            " [0.7482357 ]\n",
            " [0.7559736 ]\n",
            " [0.7622347 ]\n",
            " [0.7689502 ]\n",
            " [0.7744746 ]\n",
            " [0.7799791 ]\n",
            " [0.7880527 ]\n",
            " [0.7926017 ]\n",
            " [0.8038192 ]\n",
            " [0.80850625]\n",
            " [0.8158865 ]\n",
            " [0.82203245]\n",
            " [0.82712054]\n",
            " [0.8323623 ]\n",
            " [0.8381345 ]\n",
            " [0.8462632 ]\n",
            " [0.8511133 ]\n",
            " [0.85834587]\n",
            " [0.86579645]\n",
            " [0.87020266]\n",
            " [0.87673545]\n",
            " [0.88228166]\n",
            " [0.887571  ]\n",
            " [0.8921113 ]\n",
            " [0.8961227 ]\n",
            " [0.9001918 ]\n",
            " [0.90297973]\n",
            " [0.9052057 ]\n",
            " [0.90756094]\n",
            " [0.9096322 ]\n",
            " [0.9112009 ]\n",
            " [0.9126389 ]\n",
            " [0.9143443 ]\n",
            " [0.91571796]\n",
            " [0.917019  ]\n",
            " [0.9184066 ]\n",
            " [0.919464  ]\n",
            " [0.92028975]\n",
            " [0.921278  ]\n",
            " [0.92164576]\n",
            " [0.922349  ]\n",
            " [0.92276216]\n",
            " [0.92325056]\n",
            " [0.9237702 ]\n",
            " [0.92413723]\n",
            " [0.92466724]\n",
            " [0.9253156 ]\n",
            " [0.9257444 ]\n",
            " [0.92627513]\n",
            " [0.9268377 ]\n",
            " [0.92702043]\n",
            " [0.92766535]\n",
            " [0.9279181 ]]\n",
            "[[  161.40681]\n",
            " [  160.6987 ]\n",
            " [  163.73293]\n",
            " [  163.49695]\n",
            " [  164.28232]\n",
            " [  164.28232]\n",
            " [  164.28232]\n",
            " [  164.96092]\n",
            " [  165.40372]\n",
            " [  166.63138]\n",
            " [  180.75809]\n",
            " [  212.8242 ]\n",
            " [  284.05774]\n",
            " [  458.50534]\n",
            " [  598.2785 ]\n",
            " [  898.09906]\n",
            " [ 1074.8765 ]\n",
            " [ 1420.166  ]\n",
            " [ 1813.1658 ]\n",
            " [ 2301.3745 ]\n",
            " [ 3102.4653 ]\n",
            " [ 3707.153  ]\n",
            " [ 4468.6924 ]\n",
            " [ 5145.2456 ]\n",
            " [ 5625.668  ]\n",
            " [ 6155.684  ]\n",
            " [ 6677.373  ]\n",
            " [ 7082.615  ]\n",
            " [ 7474.1084 ]\n",
            " [ 7803.3584 ]\n",
            " [ 8027.447  ]\n",
            " [ 8261.626  ]\n",
            " [ 8328.054  ]\n",
            " [ 8494.028  ]\n",
            " [ 8581.621  ]\n",
            " [ 8652.497  ]\n",
            " [ 8728.517  ]\n",
            " [ 8791.053  ]\n",
            " [ 8853.363  ]\n",
            " [ 8944.757  ]\n",
            " [ 8996.252  ]\n",
            " [ 9123.233  ]\n",
            " [ 9176.291  ]\n",
            " [ 9259.835  ]\n",
            " [ 9329.407  ]\n",
            " [ 9387.005  ]\n",
            " [ 9446.342  ]\n",
            " [ 9511.683  ]\n",
            " [ 9603.699  ]\n",
            " [ 9658.603  ]\n",
            " [ 9740.476  ]\n",
            " [ 9824.816  ]\n",
            " [ 9874.694  ]\n",
            " [ 9948.6455 ]\n",
            " [10011.429  ]\n",
            " [10071.304  ]\n",
            " [10122.7    ]\n",
            " [10168.109  ]\n",
            " [10214.171  ]\n",
            " [10245.73   ]\n",
            " [10270.929  ]\n",
            " [10297.59   ]\n",
            " [10321.037  ]\n",
            " [10338.794  ]\n",
            " [10355.072  ]\n",
            " [10374.378  ]\n",
            " [10389.928  ]\n",
            " [10404.655  ]\n",
            " [10420.363  ]\n",
            " [10432.333  ]\n",
            " [10441.681  ]\n",
            " [10452.867  ]\n",
            " [10457.03   ]\n",
            " [10464.99   ]\n",
            " [10469.668  ]\n",
            " [10475.196  ]\n",
            " [10481.079  ]\n",
            " [10485.233  ]\n",
            " [10491.233  ]\n",
            " [10498.573  ]\n",
            " [10503.427  ]\n",
            " [10509.435  ]\n",
            " [10515.803  ]\n",
            " [10517.871  ]\n",
            " [10525.172  ]\n",
            " [10528.033  ]]\n"
          ]
        }
      ]
    },
    {
      "cell_type": "code",
      "source": [
        "trainScore = math.sqrt(mean_squared_error(Y_train[0], TrainPredict[:,0]))\n",
        "print('Train Score : %.2f RMSE' % (trainScore))\n",
        "testScore = math.sqrt(mean_squared_error(Y_test[0], TestPredict[:,0]))\n",
        "print('Test Score : %.2f RMSE' % (testScore))"
      ],
      "metadata": {
        "colab": {
          "base_uri": "https://localhost:8080/"
        },
        "id": "N-B6FlHny-um",
        "outputId": "55676568-c7d2-40cd-8491-acc502a36dc9"
      },
      "execution_count": 19,
      "outputs": [
        {
          "output_type": "stream",
          "name": "stdout",
          "text": [
            "Train Score : 256.35 RMSE\n",
            "Test Score : 413.81 RMSE\n"
          ]
        }
      ]
    },
    {
      "cell_type": "code",
      "source": [
        "trainPredictPlot = np.empty_like(dataset)\n",
        "trainPredictPlot[:, :] = np.nan\n",
        "trainPredictPlot[look_back : len(TrainPredict) + look_back, : ] = TrainPredict\n",
        "testPredictPlot = np.empty_like(dataset)\n",
        "testPredictPlot[:, :] = np.nan\n",
        "testPredictPlot[len(TrainPredict) + (look_back) * 2 : len(dataset), : ] = TestPredict\n",
        "plt.plot(dataset)\n",
        "plt.plot(trainPredictPlot)\n",
        "plt.plot(testPredictPlot)\n",
        "plt.show()"
      ],
      "metadata": {
        "colab": {
          "base_uri": "https://localhost:8080/",
          "height": 265
        },
        "id": "Pi0nvgD00oud",
        "outputId": "5b8105be-7b3a-452b-c2da-0d83f6afdef4"
      },
      "execution_count": 21,
      "outputs": [
        {
          "output_type": "display_data",
          "data": {
            "image/png": "[encoded data removed]",
            "text/plain": [
              "<Figure size 432x288 with 1 Axes>"
            ]
          },
          "metadata": {
            "needs_background": "light"
          }
        }
      ]
    }
  ]
}