{
 "cells": [
  {
   "cell_type": "code",
   "execution_count": 1,
   "id": "c5479291",
   "metadata": {},
   "outputs": [
    {
     "name": "stdout",
     "output_type": "stream",
     "text": [
      "정수값을 대입하세요 :5\n",
      "현재 시간은 5시 입니다.\n"
     ]
    }
   ],
   "source": [
    "value = int(input('정수값을 대입하세요 :'))\n",
    "print('현재 시간은 %d시 입니다.'%value)"
   ]
  },
  {
   "cell_type": "code",
   "execution_count": 2,
   "id": "6459ad44",
   "metadata": {},
   "outputs": [
    {
     "name": "stdout",
     "output_type": "stream",
     "text": [
      "9가 없다.\n"
     ]
    }
   ],
   "source": [
    "arr_list =[1,2,3,4,5]\n",
    "if 9 not in arr_list:\n",
    "    print('9가 없다.')\n",
    "else:\n",
    "    print('9가 있다.')"
   ]
  },
  {
   "cell_type": "code",
   "execution_count": 3,
   "id": "215cdeef",
   "metadata": {},
   "outputs": [
    {
     "name": "stdout",
     "output_type": "stream",
     "text": [
      "a가 문자열안에 없다\n",
      "e가 문자열안에 있다\n"
     ]
    }
   ],
   "source": [
    "string ='Hello'\n",
    "if'a' not in string:\n",
    "    print('a가 문자열안에 없다')\n",
    "if 'e' in string:\n",
    "    print('e가 문자열안에 있다')\n",
    "    "
   ]
  },
  {
   "cell_type": "code",
   "execution_count": 4,
   "id": "61110c7c",
   "metadata": {},
   "outputs": [
    {
     "name": "stdout",
     "output_type": "stream",
     "text": [
      "mysql\n",
      "html\n",
      "jquery\n"
     ]
    }
   ],
   "source": [
    "df_list=['c programming','python programming','mysql','html','jquery']\n",
    "for col in df_list:\n",
    "    if'pro' not in col:\n",
    "        print(col)"
   ]
  },
  {
   "cell_type": "code",
   "execution_count": 5,
   "id": "25a879fe",
   "metadata": {},
   "outputs": [
    {
     "name": "stdout",
     "output_type": "stream",
     "text": [
      "Iloveyou\n"
     ]
    }
   ],
   "source": [
    "str1 ='I'\n",
    "str2 ='love'\n",
    "str3= 'you'\n",
    "\n",
    "result=str1+str2+str3\n",
    "print(result)"
   ]
  },
  {
   "cell_type": "code",
   "execution_count": 6,
   "id": "dfcb4fe7",
   "metadata": {},
   "outputs": [
    {
     "name": "stdout",
     "output_type": "stream",
     "text": [
      "정수값을 대입하세요 :3\n",
      "현재 시간은 3시 입니다.\n"
     ]
    }
   ],
   "source": [
    "value=int(input('정수값을 대입하세요 :'))\n",
    "print('현재 시간은 {0}시 입니다.'.format(value))"
   ]
  },
  {
   "cell_type": "code",
   "execution_count": 7,
   "id": "3c4a3a8d",
   "metadata": {},
   "outputs": [
    {
     "name": "stdout",
     "output_type": "stream",
     "text": [
      "첫 번째 정수값을 대입하세요 :3\n",
      "두 번째 정수값을 대입하세요 :12\n",
      "현재 시간은 3시 12분 입니다.\n"
     ]
    }
   ],
   "source": [
    "value1=int(input('첫 번째 정수값을 대입하세요 :'))\n",
    "value2=int(input('두 번째 정수값을 대입하세요 :'))\n",
    "print('현재 시간은 {0}시 {1}분 입니다.'.format(value1,value2))"
   ]
  },
  {
   "cell_type": "code",
   "execution_count": 8,
   "id": "88123784",
   "metadata": {},
   "outputs": [
    {
     "name": "stdout",
     "output_type": "stream",
     "text": [
      "\"공\"의 개수 :7\n",
      "\"장\"의 개수 :12\n"
     ]
    }
   ],
   "source": [
    "string1='간장 공장 공장장은 강 공장장이고 된장 공장 공장장은 공 공장장이다.'\n",
    "\n",
    "chr1=string1.count('공')\n",
    "chr2=string1.count('장')\n",
    "\n",
    "print('\"공\"의 개수 :%d'%chr1)\n",
    "print('\"장\"의 개수 :%d'%chr2)"
   ]
  },
  {
   "cell_type": "code",
   "execution_count": 10,
   "id": "fc7d26e2",
   "metadata": {},
   "outputs": [
    {
     "name": "stdout",
     "output_type": "stream",
     "text": [
      "\"그린\"의 개수 :4\n",
      "\"기린\"의 개수 :4\n",
      "\"그림\"의 개수 :4\n"
     ]
    }
   ],
   "source": [
    "string2='내가 그린 기린 그림은 잘 그린 기린 그림이고 네가 그린 기린 그림은 잘 못 그린 기린 그림이다'\n",
    "\n",
    "str1=string2.count('그린')\n",
    "str2=string2.count('기린')\n",
    "str3=string2.count('그림')\n",
    "\n",
    "print('\"그린\"의 개수 :%d'%str1)\n",
    "print('\"기린\"의 개수 :%d'%str2)\n",
    "print('\"그림\"의 개수 :%d'%str3)"
   ]
  },
  {
   "cell_type": "code",
   "execution_count": 12,
   "id": "47edabff",
   "metadata": {},
   "outputs": [
    {
     "name": "stdout",
     "output_type": "stream",
     "text": [
      "강아지+고양이+원숭이+코끼리\n",
      "12:30:55\n"
     ]
    }
   ],
   "source": [
    "ani_list=['강아지','고양이','원숭이','코끼리']\n",
    "time_list=['12','30','55']\n",
    "\n",
    "ani_str=\"+\".join(ani_list)\n",
    "time_str=\":\".join(time_list)\n",
    "\n",
    "print(ani_str)\n",
    "print(time_str)"
   ]
  },
  {
   "cell_type": "code",
   "execution_count": 13,
   "id": "89ddad5d",
   "metadata": {},
   "outputs": [
    {
     "name": "stdout",
     "output_type": "stream",
     "text": [
      "['수성', '금성', '지구', '화성', '목성']\n",
      "['12', '30', '55']\n"
     ]
    }
   ],
   "source": [
    "planet_str='수성-금성-지구-화성-목성'\n",
    "time_list=['12','30','55']\n",
    "\n",
    "planet_list=planet_str.split('-')\n",
    "time_list=time_str.split(\":\")\n",
    "\n",
    "print(planet_list)\n",
    "print(time_list)"
   ]
  },
  {
   "cell_type": "code",
   "execution_count": 15,
   "id": "433a7e1e",
   "metadata": {},
   "outputs": [
    {
     "name": "stdout",
     "output_type": "stream",
     "text": [
      "영문자를 입력하세요 :I love Myself\n",
      "대문자로 변환 : I LOVE MYSELF\n",
      "소문자로 변환 : i love myself\n"
     ]
    }
   ],
   "source": [
    "eng_str=input('영문자를 입력하세요 :')\n",
    "\n",
    "upper_str=eng_str.upper()\n",
    "lower_str=eng_str.lower()\n",
    "\n",
    "print('대문자로 변환 : %s'%upper_str)\n",
    "print('소문자로 변환 : %s'%lower_str)"
   ]
  },
  {
   "cell_type": "code",
   "execution_count": 17,
   "id": "215aa73d",
   "metadata": {},
   "outputs": [
    {
     "name": "stdout",
     "output_type": "stream",
     "text": [
      "string1 :  죽는 날까지 하늘을 우러러\n",
      "string2 : 한점 부끄럼이 없기를  \n",
      "string3 :  잎새에 이는 바람에도 \n",
      "\n",
      "왼쪽 공백 없애기 :죽는 날까지 하늘을 우러러\n",
      "오른쪽 공백 없애기 :한점 부끄럼이 없기를\n",
      "양쪽 공백 없애기 :잎새에 이는 바람에도\n"
     ]
    }
   ],
   "source": [
    "#공백 제거\n",
    "\n",
    "string1=\" 죽는 날까지 하늘을 우러러\"\n",
    "string2='한점 부끄럼이 없기를  '\n",
    "string3=' 잎새에 이는 바람에도 '\n",
    "\n",
    "lstrip_str=string1.lstrip()\n",
    "rstrip_str=string2.rstrip()\n",
    "strip_str=string3.strip()\n",
    "\n",
    "print('string1 : %s'%string1)\n",
    "print('string2 : %s'%string2)\n",
    "print('string3 : %s'%string3)\n",
    "print()\n",
    "print('왼쪽 공백 없애기 :%s'%lstrip_str)\n",
    "print('오른쪽 공백 없애기 :%s'%rstrip_str)\n",
    "print('양쪽 공백 없애기 :%s'%strip_str)"
   ]
  },
  {
   "cell_type": "code",
   "execution_count": null,
   "id": "8c39e3c0",
   "metadata": {},
   "outputs": [],
   "source": [
    "while True:\n",
    "    string = input('문자열을 입력하세요 :')\n",
    "    \n",
    "    if string.isdigit():\n",
    "        print('문자열은 숫자로 구성되어 있습니다.')\n",
    "    \n",
    "    elif string.isalpha():\n",
    "        print('문자열은 글자로 구성되어 있습니다.')\n",
    "        if string.isupper():\n",
    "            print('문자열은 대문자로 구성되어 있습니다.')\n",
    "        elif string.islower():\n",
    "            print('문자열은 소문자로 구성되어 있습니다.')\n",
    "    elif string.isspace():\n",
    "        print('문자열은 공백으로 구성되어 있습니다.')\n",
    "        break\n",
    "    else:\n",
    "        print('모르겠습니다.')\n",
    "    print()"
   ]
  },
  {
   "cell_type": "code",
   "execution_count": null,
   "id": "c306903e",
   "metadata": {},
   "outputs": [],
   "source": []
  }
 ],
 "metadata": {
  "kernelspec": {
   "display_name": "Python 3",
   "language": "python",
   "name": "python3"
  },
  "language_info": {
   "codemirror_mode": {
    "name": "ipython",
    "version": 3
   },
   "file_extension": ".py",
   "mimetype": "text/x-python",
   "name": "python",
   "nbconvert_exporter": "python",
   "pygments_lexer": "ipython3",
   "version": "3.8.8"
  }
 },
 "nbformat": 4,
 "nbformat_minor": 5
}
