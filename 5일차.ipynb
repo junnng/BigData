{
 "cells": [
  {
   "cell_type": "code",
   "execution_count": 11,
   "id": "ae9c98bd",
   "metadata": {},
   "outputs": [
    {
     "name": "stdout",
     "output_type": "stream",
     "text": [
      "자동차 1의 정보 : 초록색 30 전진\n"
     ]
    }
   ],
   "source": [
    "class Car:\n",
    "#자동차의 멤버변수\n",
    "    color=\"\"\n",
    "    speed=0\n",
    "    derection=\"\"\n",
    "    \n",
    "#자동차의 메소드\n",
    "    def set_Speed(self,s_value):\n",
    "        self.speed=s_value\n",
    "\n",
    "    def set_Direction(self,d_value):\n",
    "        self.direction=d_value\n",
    "        \n",
    "    def get_Speed(self):\n",
    "        return self.speed\n",
    "    \n",
    "    def get_Direction(self):\n",
    "        return self.direction\n",
    "    \n",
    "    def get_Color(self):\n",
    "        return self.color\n",
    "    \n",
    "    \n",
    "mycar1=Car()\n",
    "mycar2=Car()\n",
    "mycar3=Car()\n",
    "\n",
    "mycar1.color='초록색'\n",
    "mycar1.speed=30\n",
    "mycar1.direction='전진'\n",
    "\n",
    "# mycar2.color='빨강색'\n",
    "# mycar2.speed=60\n",
    "# mycar2.direction='후진'\n",
    "\n",
    "# mycar3.color='노랑색'\n",
    "# mycar3.speed=100\n",
    "# mycar3.direction='전진'\n",
    "\n",
    "print('자동차 1의 정보 :',mycar1.color,mycar1.speed,mycar1.direction)"
   ]
  },
  {
   "cell_type": "code",
   "execution_count": null,
   "id": "aade08a0",
   "metadata": {},
   "outputs": [],
   "source": [
    "class Car:\n",
    "    def __init__(self, )\n",
    "    def set_Speed(self,s_value):\n",
    "        self.speed=s_value\n",
    "\n",
    "    def set_Direction(self,d_value):\n",
    "        self.direction=d_value\n",
    "        \n",
    "    def get_Speed(self):\n",
    "        return self.speed\n",
    "    \n",
    "    def get_Direction(self):\n",
    "        return self.direction\n",
    "    \n",
    "    def get_Color(self):\n",
    "        return self.color\n",
    "    \n",
    "    \n",
    "mycar1=Car()\n",
    "mycar2=Car()\n",
    "mycar3=Car()\n",
    "\n",
    "mycar1.color='초록색'\n",
    "mycar1.speed=30\n",
    "mycar1.direction='전진'\n",
    "\n",
    "# mycar2.color='빨강색'\n",
    "# mycar2.speed=60\n",
    "# mycar2.direction='후진'\n",
    "\n",
    "# mycar3.color='노랑색'\n",
    "# mycar3.speed=100\n",
    "# mycar3.direction='전진'\n",
    "\n",
    "print('자동차 1의 정보 :',mycar1.color,mycar1.speed,mycar1.direction)"
   ]
  },
  {
   "cell_type": "code",
   "execution_count": null,
   "id": "13b89e1a",
   "metadata": {},
   "outputs": [],
   "source": []
  },
  {
   "cell_type": "code",
   "execution_count": 15,
   "id": "bb98dd74",
   "metadata": {},
   "outputs": [
    {
     "name": "stdout",
     "output_type": "stream",
     "text": [
      "아메리카노\n",
      "카페라떼\n",
      "카푸치노\n",
      "카페모카\n",
      "자몽에이드\n",
      "레몬에이드\n",
      "유자에이드\n",
      "청포도에이드\n"
     ]
    }
   ],
   "source": [
    "from bs4 import BeautifulSoup\n",
    "\n",
    "site = open('ediya.html','r',encoding='utf8')\n",
    "html_doc=site.read()\n",
    "site.close()\n",
    "\n",
    "soup=BeautifulSoup(html_doc,'html.parser')\n",
    "result=soup.find_all('p',class_='each-menu')\n",
    "\n",
    "for data in result:\n",
    "    print(data.text)"
   ]
  },
  {
   "cell_type": "code",
   "execution_count": 16,
   "id": "5debb1ef",
   "metadata": {},
   "outputs": [
    {
     "name": "stdout",
     "output_type": "stream",
     "text": [
      "3000원\n",
      "3500원\n",
      "4000원\n",
      "4000원\n",
      "3500원\n",
      "3500원\n",
      "4000원\n",
      "4000원\n"
     ]
    }
   ],
   "source": [
    "from bs4 import BeautifulSoup\n",
    "\n",
    "site = open('ediya.html','r',encoding='utf8')\n",
    "html_doc=site.read()\n",
    "site.close()\n",
    "\n",
    "soup=BeautifulSoup(html_doc,'html.parser')\n",
    "result=soup.find_all('p',class_='each-price')\n",
    "\n",
    "for data in result:\n",
    "    print(data.text)"
   ]
  },
  {
   "cell_type": "code",
   "execution_count": 20,
   "id": "ebb222b1",
   "metadata": {},
   "outputs": [
    {
     "name": "stdout",
     "output_type": "stream",
     "text": [
      "\n",
      "\n",
      "<li>\n",
      "<a class=\"menu-anchor\" href=\"https://itunes.apple.com/kr/app/pangyojangteo/id1018769995?l=ko&amp;ls=1&amp;mt=8\" id=\"header-download-button-ios\" target=\"_blank\">\n",
      "<img alt=\"App Store\" src=\"https://d1unjqcospf8gs.cloudfront.net/assets/home/base/header/apple-store-3a664174124650d63cae365bc55586fc5ff27b822b1b97788fc4af77d73d00c8.svg\"/>\n",
      "<span>App Store</span>\n",
      "</a> </li>\n",
      "\n",
      "\n",
      "<li>\n",
      "<a class=\"menu-anchor\" href=\"https://play.google.com/store/apps/details?id=com.towneers.www\" id=\"header-download-button-android\" target=\"_blank\">\n",
      "<img alt=\"Google Play\" src=\"https://d1unjqcospf8gs.cloudfront.net/assets/home/base/header/google-play-c9ad0fc573cd01e2b982df5de6709a3d8d7cec8d9b58a5c08db7da0b92a32a75.svg\"/>\n",
      "<span>Google Play</span>\n",
      "</a> </li>\n",
      "\n",
      "\n"
     ]
    }
   ],
   "source": [
    "import requests\n",
    "from bs4 import BeautifulSoup\n",
    "\n",
    "webpage=requests.get('https://www.daangn.com/hot_articles')\n",
    "soup=BeautifulSoup(webpage.content, 'html.parser')\n",
    "\n",
    "#print(soup.p)\n",
    "\n",
    "for child in soup.ul.children:\n",
    "    print(child)"
   ]
  },
  {
   "cell_type": "code",
   "execution_count": null,
   "id": "232fc3ca",
   "metadata": {},
   "outputs": [],
   "source": []
  },
  {
   "cell_type": "code",
   "execution_count": null,
   "id": "68434c8c",
   "metadata": {},
   "outputs": [],
   "source": []
  },
  {
   "cell_type": "code",
   "execution_count": null,
   "id": "26a60a34",
   "metadata": {},
   "outputs": [],
   "source": []
  },
  {
   "cell_type": "code",
   "execution_count": null,
   "id": "639f1ff6",
   "metadata": {},
   "outputs": [],
   "source": []
  },
  {
   "cell_type": "code",
   "execution_count": null,
   "id": "59bd4cd8",
   "metadata": {},
   "outputs": [],
   "source": []
  }
 ],
 "metadata": {
  "kernelspec": {
   "display_name": "Python 3",
   "language": "python",
   "name": "python3"
  },
  "language_info": {
   "codemirror_mode": {
    "name": "ipython",
    "version": 3
   },
   "file_extension": ".py",
   "mimetype": "text/x-python",
   "name": "python",
   "nbconvert_exporter": "python",
   "pygments_lexer": "ipython3",
   "version": "3.8.8"
  }
 },
 "nbformat": 4,
 "nbformat_minor": 5
}
