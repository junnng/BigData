{
 "cells": [
  {
   "cell_type": "code",
   "execution_count": 3,
   "id": "c9b51f32",
   "metadata": {},
   "outputs": [],
   "source": [
    "from tkinter import*"
   ]
  },
  {
   "cell_type": "code",
   "execution_count": null,
   "id": "4e084acb",
   "metadata": {},
   "outputs": [],
   "source": [
    "from tkinter import*\n",
    "root = Tk()\n",
    "\n",
    "root.title(\"Python GUI\")\n",
    "root.geometry(\"540x380\")\n",
    "\n",
    "btn1=Button(root,text=\"버튼인가?\")\n",
    "btn1.pack()\n",
    "\n",
    "btn2=Button(root,padx=20,pady=20,text=\"아무튼 버튼\")\n",
    "btn2.pack()\n",
    "\n",
    "btn3=Button(root,width=10,height=5,text=\"튼튼\",fg=\"white\",bg=\"blue\")\n",
    "btn3.pack()\n",
    "\n",
    "def btncmd():\n",
    "    print(\"좋아요를 꾸~욱 눌러주세요\")\n",
    "    \n",
    "photo = PhotoImage(file=\"jamsuham.png\")\n",
    "btn4=Button(root,image = photo,command = btncmd)\n",
    "btn4.pack()\n",
    "\n",
    "root.mainloop()"
   ]
  },
  {
   "cell_type": "code",
   "execution_count": null,
   "id": "935998a2",
   "metadata": {},
   "outputs": [],
   "source": [
    "from tkinter import*\n",
    "root = Tk()\n",
    "root.title(\"Python GUI\")\n",
    "root.geometry(\"540x380\")\n",
    "\n",
    "label=Lable(root, text=\"누구인가?\")\n",
    "label.pack()\n",
    "\n",
    "\n",
    "root.mainloop()"
   ]
  },
  {
   "cell_type": "code",
   "execution_count": 15,
   "id": "5a43ff10",
   "metadata": {},
   "outputs": [
    {
     "ename": "NameError",
     "evalue": "name 'Lable' is not defined",
     "output_type": "error",
     "traceback": [
      "\u001b[1;31m---------------------------------------------------------------------------\u001b[0m",
      "\u001b[1;31mNameError\u001b[0m                                 Traceback (most recent call last)",
      "\u001b[1;32m<ipython-input-15-7df9d331e9e8>\u001b[0m in \u001b[0;36m<module>\u001b[1;34m\u001b[0m\n\u001b[0;32m      7\u001b[0m \u001b[1;31m#label.pack()\u001b[0m\u001b[1;33m\u001b[0m\u001b[1;33m\u001b[0m\u001b[1;33m\u001b[0m\u001b[0m\n\u001b[0;32m      8\u001b[0m \u001b[1;33m\u001b[0m\u001b[0m\n\u001b[1;32m----> 9\u001b[1;33m \u001b[0mlabel1\u001b[0m\u001b[1;33m=\u001b[0m\u001b[0mLable\u001b[0m\u001b[1;33m(\u001b[0m\u001b[0mroot\u001b[0m\u001b[1;33m,\u001b[0m\u001b[0mtext\u001b[0m\u001b[1;33m=\u001b[0m\u001b[1;34m\"최선을 다하자\"\u001b[0m\u001b[1;33m)\u001b[0m\u001b[1;33m\u001b[0m\u001b[1;33m\u001b[0m\u001b[0m\n\u001b[0m\u001b[0;32m     10\u001b[0m \u001b[0mlabel1\u001b[0m\u001b[1;33m.\u001b[0m\u001b[0mpack\u001b[0m\u001b[1;33m(\u001b[0m\u001b[1;33m)\u001b[0m\u001b[1;33m\u001b[0m\u001b[1;33m\u001b[0m\u001b[0m\n\u001b[0;32m     11\u001b[0m \u001b[1;33m\u001b[0m\u001b[0m\n",
      "\u001b[1;31mNameError\u001b[0m: name 'Lable' is not defined"
     ]
    }
   ],
   "source": [
    "from tkinter import*\n",
    "root = Tk()\n",
    "root.title(\"Python GUI\")\n",
    "root.geometry(\"540x380\")\n",
    "\n",
    "#label=Lable(root, text=\"누구인가?\")\n",
    "#label.pack()\n",
    "\n",
    "label1=Lable(root,text=\"최선을 다하자\")\n",
    "label1.pack()\n",
    "\n",
    "def change():\n",
    "    label1.config(text=\"최선을 다할껄\")\n",
    "    \n",
    "btn.Button(root,text=\"클릭\",command=change)\n",
    "btn.pack()\n",
    "\n",
    "\n",
    "root.mainloop()"
   ]
  },
  {
   "cell_type": "code",
   "execution_count": 8,
   "id": "264dfe06",
   "metadata": {},
   "outputs": [],
   "source": [
    "from tkinter import*\n",
    "root = Tk()\n",
    "root.title(\"Python GUI\")\n",
    "root.geometry(\"600x400+200+100\")\n",
    "\n",
    "# label = Label(root, text = \"누구인가?\")\n",
    "# label.pack()\n",
    "\n",
    "# photo = PhotoImage(file = \"jamsuham.png\")\n",
    "# label = Label(root, image = photo)\n",
    "# label.pack()\n",
    "\n",
    "label1 = Label(root, text = \"최선을 다하자\")\n",
    "label1.pack()\n",
    "\n",
    "def change():\n",
    "    global photo\n",
    "    photo = PhotoImage(file = \"jamsuham.png\")\n",
    "    label1.config(image = photo)\n",
    "#     label1.config(text = \"최선을 다할껄\")\n",
    "        \n",
    "\n",
    "btn = Button(root, text = \"클릭\", command = change)\n",
    "btn.pack()\n",
    "\n",
    "\n",
    "# root.resizable(False, False)\n",
    "root.mainloop()\n"
   ]
  },
  {
   "cell_type": "code",
   "execution_count": 18,
   "id": "a8f61e3e",
   "metadata": {},
   "outputs": [],
   "source": [
    "from tkinter import*\n",
    "root = Tk()\n",
    "root.title(\"Python GUI\")\n",
    "root.geometry(\"600x400+200+100\")\n",
    "\n",
    "# txt=Text(root,width=40,height=20)\n",
    "# txt.insert(END,'글자를 입력하세요')\n",
    "# txt.pack()\n",
    "\n",
    "ent1=Entry(root,width=30)\n",
    "ent1.insert(END,'아이디를 입력하세요')\n",
    "ent1.pack()\n",
    "\n",
    "ent2=Entry(root,width=30)\n",
    "ent2.insert(END,\"비밀번호를 입력하세요\")\n",
    "ent2.pack()\n",
    "\n",
    "def btncmd():\n",
    "    print(ent1.get())\n",
    "    \n",
    "btn=Button(root,text=\"로그인\",command=btncmd)\n",
    "btn.pack()\n",
    "# root.resizable(False, False)\n",
    "root.mainloop()\n"
   ]
  },
  {
   "cell_type": "code",
   "execution_count": 3,
   "id": "92597f25",
   "metadata": {},
   "outputs": [
    {
     "name": "stdout",
     "output_type": "stream",
     "text": [
      "치즈버거를 선택하셨습니다\n"
     ]
    }
   ],
   "source": [
    "from tkinter import*\n",
    "root = Tk()\n",
    "root.title(\"Python GUI\")\n",
    "root.geometry(\"600x400+200+100\")\n",
    "\n",
    "Label(root,text =\"햄버거를 선택하세요\").pack()\n",
    "burger_var=StringVar()\n",
    "btn_burger1=Radiobutton(root,text=\"불고기버거\",value=\"불고기버거\",variable=burger_var)\n",
    "btn_burger1.select()\n",
    "btn_burger2=Radiobutton(root,text=\"치즈버거\",value=\"치즈버거\",variable=burger_var)\n",
    "btn_burger3=Radiobutton(root,text=\"더블버거\",value=\"더블버거\",variable=burger_var)\n",
    "\n",
    "btn_burger1.pack()\n",
    "btn_burger2.pack()\n",
    "btn_burger3.pack()\n",
    "\n",
    "def btncmd():\n",
    "    print(burger_var.get()+\"를 선택하셨습니다\")\n",
    "    \n",
    "btn=Button(root,text=\"주문\",command=btncmd)\n",
    "btn.pack()\n",
    "# root.resizable(False, False)\n",
    "root.mainloop()\n"
   ]
  },
  {
   "cell_type": "code",
   "execution_count": 5,
   "id": "1a0b0c1c",
   "metadata": {},
   "outputs": [
    {
     "name": "stdout",
     "output_type": "stream",
     "text": [
      "28일를 선택하셨습니다.\n",
      "28일를 선택하셨습니다.\n"
     ]
    }
   ],
   "source": [
    "import tkinter.ttk as ttk\n",
    "from tkinter import*\n",
    "\n",
    "root = Tk()\n",
    "root.title(\"Python GUI\")\n",
    "root.geometry(\"600x400+200+100\")\n",
    "\n",
    "dateVal = [str(i)+\"일\" for i in range(1,32)]\n",
    "\n",
    "combobox=ttk.Combobox(root,height=5,values=dateVal)\n",
    "combobox.pack()\n",
    "combobox.set(\"카드 결제일\")\n",
    "\n",
    "def btncmd():\n",
    "    print(combobox.get()+\"를 선택하셨습니다.\")\n",
    "    \n",
    "btn=Button(root,text=\"날짜\",command=btncmd)\n",
    "btn.pack()\n",
    "\n",
    "# root.resizable(False, False)\n",
    "root.mainloop()\n"
   ]
  },
  {
   "cell_type": "code",
   "execution_count": null,
   "id": "62059a32",
   "metadata": {},
   "outputs": [],
   "source": []
  },
  {
   "cell_type": "code",
   "execution_count": null,
   "id": "301d7f0d",
   "metadata": {},
   "outputs": [],
   "source": []
  },
  {
   "cell_type": "code",
   "execution_count": null,
   "id": "ed26508c",
   "metadata": {},
   "outputs": [],
   "source": []
  }
 ],
 "metadata": {
  "kernelspec": {
   "display_name": "Python 3",
   "language": "python",
   "name": "python3"
  },
  "language_info": {
   "codemirror_mode": {
    "name": "ipython",
    "version": 3
   },
   "file_extension": ".py",
   "mimetype": "text/x-python",
   "name": "python",
   "nbconvert_exporter": "python",
   "pygments_lexer": "ipython3",
   "version": "3.8.8"
  }
 },
 "nbformat": 4,
 "nbformat_minor": 5
}
