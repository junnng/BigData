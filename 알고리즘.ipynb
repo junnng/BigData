{
 "cells": [
  {
   "cell_type": "code",
   "execution_count": 2,
   "id": "605ed21f",
   "metadata": {},
   "outputs": [
    {
     "name": "stdout",
     "output_type": "stream",
     "text": [
      "before : [5, 6, 3, 2, 8, 7, 1, 4]\n",
      "after : [1, 2, 3, 4, 5, 6, 7, 8]\n"
     ]
    }
   ],
   "source": [
    "arrlist=[5,6,3,2,8,7,1,4]\n",
    "\n",
    "def bubble_sort(arrlist):\n",
    "    n= len(arrlist)\n",
    "    for i in range(n-1):\n",
    "        for j in range(n-1-i):\n",
    "            if arrlist[j]>arrlist[j+1]:\n",
    "                arrlist[j],arrlist[j+1]=arrlist[j+1],arrlist[j]\n",
    "                \n",
    "print('before :',arrlist)\n",
    "bubble_sort(arrlist)\n",
    "print('after :',arrlist)\n",
    "    "
   ]
  },
  {
   "cell_type": "code",
   "execution_count": null,
   "id": "b1b835cb",
   "metadata": {},
   "outputs": [],
   "source": []
  }
 ],
 "metadata": {
  "kernelspec": {
   "display_name": "Python 3",
   "language": "python",
   "name": "python3"
  },
  "language_info": {
   "codemirror_mode": {
    "name": "ipython",
    "version": 3
   },
   "file_extension": ".py",
   "mimetype": "text/x-python",
   "name": "python",
   "nbconvert_exporter": "python",
   "pygments_lexer": "ipython3",
   "version": "3.8.8"
  }
 },
 "nbformat": 4,
 "nbformat_minor": 5
}
