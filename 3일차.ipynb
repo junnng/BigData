{
 "cells": [
  {
   "cell_type": "code",
   "execution_count": 2,
   "id": "d4d95675",
   "metadata": {},
   "outputs": [
    {
     "name": "stdout",
     "output_type": "stream",
     "text": [
      "6\n"
     ]
    }
   ],
   "source": [
    "ktx =[1,2,3]\n",
    "sum = ktx[0]+ktx[1]+ktx[2]\n",
    "print(sum)"
   ]
  },
  {
   "cell_type": "code",
   "execution_count": 3,
   "id": "59f30f52",
   "metadata": {},
   "outputs": [
    {
     "name": "stdout",
     "output_type": "stream",
     "text": [
      "55\n"
     ]
    }
   ],
   "source": [
    "ktx =[1,2,3,4,5,6,7,8,9,10]\n",
    "sum = ktx[0]+ktx[1]+ktx[2]+ktx[3]+ktx[4]+ktx[5]+ktx[6]+ktx[7]+ktx[8]+ktx[9]\n",
    "print(sum)"
   ]
  },
  {
   "cell_type": "code",
   "execution_count": 4,
   "id": "8e523500",
   "metadata": {},
   "outputs": [
    {
     "name": "stdout",
     "output_type": "stream",
     "text": [
      "55\n"
     ]
    }
   ],
   "source": [
    "ktx =[1,2,3,4,5,6,7,8,9,10]\n",
    "\n",
    "sum=0\n",
    "for i in range(10):\n",
    "    sum = sum+ktx[i]\n",
    "\n",
    "print(sum)"
   ]
  },
  {
   "cell_type": "code",
   "execution_count": 5,
   "id": "20e6e3fa",
   "metadata": {},
   "outputs": [
    {
     "name": "stdout",
     "output_type": "stream",
     "text": [
      "15\n"
     ]
    }
   ],
   "source": [
    "#append()\n",
    "\n",
    "sum=0\n",
    "ktx = [] #<--빈 리스트라는 뜻\n",
    "ktx.append(1)\n",
    "ktx.append(2)\n",
    "ktx.append(3)\n",
    "ktx.append(4)\n",
    "ktx.append(5)\n",
    "\n",
    "for i in range(5):\n",
    "    sum = sum+ktx[i]\n",
    "\n",
    "print(sum)\n"
   ]
  },
  {
   "cell_type": "code",
   "execution_count": 6,
   "id": "3d34b6ae",
   "metadata": {},
   "outputs": [
    {
     "name": "stdout",
     "output_type": "stream",
     "text": [
      "500500\n"
     ]
    }
   ],
   "source": [
    "#반복문을 활용한 리스트 호출 \n",
    "\n",
    "ktx=[]\n",
    "sum=0\n",
    "for i in range(1000):\n",
    "    ktx.append(i+1)\n",
    "    \n",
    "for i in range(1000):\n",
    "    sum=sum+ktx[i]\n",
    "print(sum)"
   ]
  },
  {
   "cell_type": "code",
   "execution_count": 7,
   "id": "652d2141",
   "metadata": {},
   "outputs": [
    {
     "name": "stdout",
     "output_type": "stream",
     "text": [
      "[10, 20]\n",
      "[10, 20, 30, 40, 50]\n",
      "[30, 40, 50, 60]\n"
     ]
    }
   ],
   "source": [
    "ktx =[10,20,30,40,50,60,70]\n",
    "print(ktx[0:2]) #끝 인덱스는 포함하지 않는다\n",
    "print(ktx[0:5])\n",
    "print(ktx[2:6])"
   ]
  },
  {
   "cell_type": "code",
   "execution_count": 8,
   "id": "843fa96f",
   "metadata": {},
   "outputs": [
    {
     "name": "stdout",
     "output_type": "stream",
     "text": [
      "[100, 20, 300, 40]\n"
     ]
    }
   ],
   "source": [
    "#기존 리스트 인덱스 수정\n",
    "ktx=[10,20,30,40]\n",
    "ktx[0]=100\n",
    "ktx[2]=300\n",
    "print(ktx)"
   ]
  },
  {
   "cell_type": "code",
   "execution_count": 9,
   "id": "07ec58a0",
   "metadata": {},
   "outputs": [
    {
     "name": "stdout",
     "output_type": "stream",
     "text": [
      "[10, 20, 300, 301, 302, 40]\n"
     ]
    }
   ],
   "source": [
    "#기존 리스트에 값 추가\n",
    "ktx=[10,20,30,40]\n",
    "ktx[2:3]=[300,301,302]\n",
    "print(ktx)"
   ]
  },
  {
   "cell_type": "code",
   "execution_count": 10,
   "id": "467aa291",
   "metadata": {},
   "outputs": [
    {
     "name": "stdout",
     "output_type": "stream",
     "text": [
      "[10, 20, 40]\n"
     ]
    }
   ],
   "source": [
    "#리스트 삭제\n",
    "ktx=[10,20,30,40]\n",
    "del(ktx[2])\n",
    "print(ktx)"
   ]
  },
  {
   "cell_type": "code",
   "execution_count": 11,
   "id": "9f2f6ec0",
   "metadata": {},
   "outputs": [
    {
     "name": "stdout",
     "output_type": "stream",
     "text": [
      "[10, 40]\n"
     ]
    }
   ],
   "source": [
    "#리스트 여러항목 한번에 삭제\n",
    "ktx=[10,20,30,40]\n",
    "ktx[1:3]=[]\n",
    "print(ktx)"
   ]
  },
  {
   "cell_type": "code",
   "execution_count": 12,
   "id": "92c17c8f",
   "metadata": {},
   "outputs": [
    {
     "name": "stdout",
     "output_type": "stream",
     "text": [
      "현재 리스트 : [10, 20, 30, 40]\n",
      "append 함수 사용 : [10, 20, 30, 40, 50]\n",
      "pop 함수 사용 : [10, 20, 30, 40]\n",
      "reverse 함수 사용 : [40, 30, 20, 10]\n",
      "sort 함수 사용 : [10, 20, 30, 40]\n",
      "remove 함수 사용 : [10, 30, 40]\n",
      "insert 함수 사용 : [10, '이건뭐야', 30, 40]\n",
      "extend 함수 사용 : [10, '이건뭐야', 30, 40, 100, 200, 300]\n",
      "len 함수 사용 : 7\n"
     ]
    }
   ],
   "source": [
    "ktx=[10,20,30,40]\n",
    "print('현재 리스트 :',ktx)\n",
    "\n",
    "ktx.append(50)\n",
    "print('append 함수 사용 :',ktx)\n",
    "\n",
    "ktx.pop()\n",
    "print('pop 함수 사용 :',ktx)\n",
    "\n",
    "ktx.reverse()\n",
    "print('reverse 함수 사용 :',ktx)\n",
    "\n",
    "ktx.sort()\n",
    "print('sort 함수 사용 :',ktx)\n",
    "\n",
    "ktx.remove(20)\n",
    "print('remove 함수 사용 :',ktx)\n",
    "\n",
    "ktx.insert(1,'이건뭐야')\n",
    "print('insert 함수 사용 :',ktx)\n",
    "\n",
    "tgv=[100,200,300]\n",
    "ktx.extend(tgv)\n",
    "print('extend 함수 사용 :',ktx)\n",
    "\n",
    "cntlist=len(ktx)\n",
    "print('len 함수 사용 :',cntlist)"
   ]
  },
  {
   "cell_type": "code",
   "execution_count": 13,
   "id": "d7be8a03",
   "metadata": {},
   "outputs": [
    {
     "name": "stdout",
     "output_type": "stream",
     "text": [
      "(10, 20, 30, 40)\n",
      "(10, 20, 30, 40)\n",
      "(10,)\n",
      "10\n",
      "(10,)\n"
     ]
    }
   ],
   "source": [
    "tp1=(10,20,30,40)\n",
    "tp2=10,20,30,40\n",
    "\n",
    "print(tp1)\n",
    "print(tp2)\n",
    "\n",
    "tp3=(10,)\n",
    "tp4=(10)\n",
    "tp5=10,\n",
    "\n",
    "print(tp3)\n",
    "print(tp4)\n",
    "print(tp5)"
   ]
  },
  {
   "cell_type": "code",
   "execution_count": 14,
   "id": "773d5968",
   "metadata": {},
   "outputs": [
    {
     "name": "stdout",
     "output_type": "stream",
     "text": [
      "두 번째 항목 : 20\n",
      "네 번째 항목 : 40\n",
      "세 항목의 합 : 60\n"
     ]
    }
   ],
   "source": [
    "tp=(10,20,30,40)\n",
    "print('두 번째 항목 :',tp[1])\n",
    "print('네 번째 항목 :',tp[3])\n",
    "\n",
    "sum=tp[0]+tp[1]+tp[2]\n",
    "print('세 항목의 합 :',sum)"
   ]
  },
  {
   "cell_type": "code",
   "execution_count": 15,
   "id": "8e0df79d",
   "metadata": {},
   "outputs": [
    {
     "name": "stdout",
     "output_type": "stream",
     "text": [
      "(20, 30)\n"
     ]
    }
   ],
   "source": [
    "tp=(10,20,30,40)\n",
    "print(tp[1:3])"
   ]
  },
  {
   "cell_type": "code",
   "execution_count": 16,
   "id": "ef513767",
   "metadata": {},
   "outputs": [
    {
     "name": "stdout",
     "output_type": "stream",
     "text": [
      "(1, 2, '짝')\n",
      "('짝', '짝', '짝')\n"
     ]
    }
   ],
   "source": [
    "tp1=(1,2)\n",
    "tp2=('짝',)\n",
    "print(tp1 + tp2)\n",
    "print(tp2*3)"
   ]
  },
  {
   "cell_type": "code",
   "execution_count": 22,
   "id": "ebd8bc86",
   "metadata": {},
   "outputs": [
    {
     "name": "stdout",
     "output_type": "stream",
     "text": [
      "('다함께', '파이썬')\n"
     ]
    }
   ],
   "source": [
    "mytp=('나혼자','파이썬')\n",
    "mylist=list(mytp)\n",
    "mylist[0]=\"다함께\"\n",
    "\n",
    "mytp=tuple(mylist)\n",
    "print(mytp)"
   ]
  },
  {
   "cell_type": "code",
   "execution_count": 18,
   "id": "546eec8b",
   "metadata": {},
   "outputs": [
    {
     "name": "stdout",
     "output_type": "stream",
     "text": [
      "{'컵라면': 800, '삼각김밥': 1000, '소세지': 1500}\n",
      "{'boy': '소년', 'girl': '소녀', 'family': '가족'}\n"
     ]
    }
   ],
   "source": [
    "product={'컵라면':800,'삼각김밥': 1000,'소세지' : 1500}\n",
    "word={'boy': '소년','girl': '소녀','family': '가족'}\n",
    "\n",
    "print(product)\n",
    "print(word)"
   ]
  },
  {
   "cell_type": "code",
   "execution_count": 19,
   "id": "30541463",
   "metadata": {},
   "outputs": [
    {
     "name": "stdout",
     "output_type": "stream",
     "text": [
      "{'삼각김밥': 1000}\n"
     ]
    }
   ],
   "source": [
    "product={'컵라면':800,'삼각김밥': 1000,'소세지' : 1500}\n",
    "\n",
    "del(product['컵라면'])\n",
    "del(product['소세지'])\n",
    "\n",
    "print(product)"
   ]
  },
  {
   "cell_type": "code",
   "execution_count": 20,
   "id": "6d45e063",
   "metadata": {},
   "outputs": [
    {
     "name": "stdout",
     "output_type": "stream",
     "text": [
      "1000\n",
      "['컵라면', '삼각김밥', '소세지']\n",
      "[800, 1000, 1500]\n"
     ]
    }
   ],
   "source": [
    "product={'컵라면':800,'삼각김밥': 1000,'소세지' : 1500}\n",
    "\n",
    "print(product.get('삼각김밥'))\n",
    "print(list(product.keys()))\n",
    "print(list(product.values()))"
   ]
  },
  {
   "cell_type": "code",
   "execution_count": null,
   "id": "2af2a291",
   "metadata": {},
   "outputs": [],
   "source": [
    "product={'컵라면':800,'삼각김밥': 1000,'소세지' : 1500}\n",
    "item =input('상품을 입력하세요 :')\n",
    "\n",
    "if(item in product):\n",
    "    print('편의점에 상품이 있습니다.')\n",
    "else:\n",
    "    print('편의점에 존재하지 않는 상품입니다.')"
   ]
  },
  {
   "cell_type": "code",
   "execution_count": null,
   "id": "56e31a04",
   "metadata": {},
   "outputs": [],
   "source": [
    "capital= {'네팔':'카트만두',\n",
    "        '대한민국':'서울',\n",
    "        '일본':'도쿄',\n",
    "        '중국':'베이징',\n",
    "        '이탈리아':'로마',\n",
    "        '러시아':'모스크바',\n",
    "        '독일':'베를린',\n",
    "        '미국':'워싱턴',\n",
    "        '프랑스':'파리',\n",
    "        '영국':'런던'};\n",
    "while(True):\n",
    "    contry=input(str(list(capital.keys()))+\"나라의 수도는 무엇일까요?\")\n",
    "    if contry in capital:\n",
    "        print(contry,'의 수도는',capital.get(contry),'입니다.')\n",
    "        \n",
    "    elif contry ==\"exit\":\n",
    "        break;\n",
    "    else:\n",
    "        print('그런 나라가 없습니다.')"
   ]
  },
  {
   "cell_type": "code",
   "execution_count": null,
   "id": "3f7ba001",
   "metadata": {},
   "outputs": [],
   "source": [
    "from pandas as pd\n",
    "from numpy as np\n",
    "arr_list =[1,2,3,4,5]\n",
    "if 9 not in arr_list:\n",
    "    print('9가 없다.')\n",
    "else:\n",
    "    print('9가 있다.')"
   ]
  },
  {
   "cell_type": "code",
   "execution_count": null,
   "id": "2590c508",
   "metadata": {},
   "outputs": [],
   "source": [
    "string ='Hello'\n",
    "if'a' not in string:\n",
    "    print('a가 문자열안에 없다')\n",
    "if 'e' in string:\n",
    "    print('e가 문자열안에 있다')\n",
    "    "
   ]
  },
  {
   "cell_type": "code",
   "execution_count": null,
   "id": "055f5d80",
   "metadata": {},
   "outputs": [],
   "source": [
    "df_list=['c programming','python programming','mysql','html','jquery']\n",
    "for col in df_list:\n",
    "    if'pro' not in col:\n",
    "        print(col)"
   ]
  },
  {
   "cell_type": "code",
   "execution_count": null,
   "id": "316c330e",
   "metadata": {},
   "outputs": [],
   "source": [
    "str1 ='I'\n",
    "str2 ='love'\n",
    "str3= 'you'\n",
    "\n",
    "result=str1+str2+str3\n",
    "print(result)"
   ]
  },
  {
   "cell_type": "code",
   "execution_count": null,
   "id": "7aa9d064",
   "metadata": {},
   "outputs": [],
   "source": [
    "print('-'*30)"
   ]
  },
  {
   "cell_type": "code",
   "execution_count": null,
   "id": "b4d18194",
   "metadata": {},
   "outputs": [],
   "source": []
  },
  {
   "cell_type": "code",
   "execution_count": null,
   "id": "fa65edfe",
   "metadata": {},
   "outputs": [],
   "source": []
  },
  {
   "cell_type": "code",
   "execution_count": null,
   "id": "d00a6a96",
   "metadata": {},
   "outputs": [],
   "source": []
  },
  {
   "cell_type": "code",
   "execution_count": null,
   "id": "e10c4cc7",
   "metadata": {},
   "outputs": [],
   "source": []
  }
 ],
 "metadata": {
  "kernelspec": {
   "display_name": "Python 3",
   "language": "python",
   "name": "python3"
  },
  "language_info": {
   "codemirror_mode": {
    "name": "ipython",
    "version": 3
   },
   "file_extension": ".py",
   "mimetype": "text/x-python",
   "name": "python",
   "nbconvert_exporter": "python",
   "pygments_lexer": "ipython3",
   "version": "3.8.8"
  }
 },
 "nbformat": 4,
 "nbformat_minor": 5
}
