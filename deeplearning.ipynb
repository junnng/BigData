{
  "nbformat": 4,
  "nbformat_minor": 0,
  "metadata": {
    "colab": {
      "name": "deeplearning.ipynb",
      "provenance": []
    },
    "kernelspec": {
      "name": "python3",
      "display_name": "Python 3"
    },
    "language_info": {
      "name": "python"
    },
    "accelerator": "GPU"
  },
  "cells": [
    {
      "cell_type": "markdown",
      "source": [
        "텐서플로우 버전 확인"
      ],
      "metadata": {
        "id": "rX4WwBQOTA_c"
      }
    },
    {
      "cell_type": "code",
      "execution_count": null,
      "metadata": {
        "colab": {
          "base_uri": "https://localhost:8080/"
        },
        "id": "ilHiGIcAN7Xe",
        "outputId": "830b33d8-e446-4e91-ac10-811739c5697b"
      },
      "outputs": [
        {
          "output_type": "stream",
          "name": "stdout",
          "text": [
            "Currently selected TF version: 2.x\n",
            "Available versions:\n",
            "* 1.x\n",
            "* 2.x\n"
          ]
        }
      ],
      "source": [
        "%tensorflow_version"
      ]
    },
    {
      "cell_type": "code",
      "source": [
        ""
      ],
      "metadata": {
        "id": "zve6HRh4MRdG"
      },
      "execution_count": null,
      "outputs": []
    },
    {
      "cell_type": "markdown",
      "source": [
        "케라스 확인"
      ],
      "metadata": {
        "id": "PX31Fe8aTI-H"
      }
    },
    {
      "cell_type": "code",
      "source": [
        "import keras"
      ],
      "metadata": {
        "id": "xBCR5oL0S4iM"
      },
      "execution_count": null,
      "outputs": []
    },
    {
      "cell_type": "code",
      "source": [
        "from tensorflow.keras.models import Sequential\n",
        "from tensorflow.keras.layers import Dense, Activation\n",
        "from tensorflow.keras.utils import to_categorical\n",
        "from tensorflow.keras.datasets import mnist\n",
        "import numpy as np\n",
        "import matplotlib.pyplot as plt\n"
      ],
      "metadata": {
        "id": "RWs03lEVU8ww"
      },
      "execution_count": null,
      "outputs": []
    },
    {
      "cell_type": "code",
      "source": [
        "(x_train, y_train), (x_test, y_test) = mnist.load_data()\n",
        "print(\"x_train shape\", x_train.shape)\n",
        "print(\"y_train shape\", y_train.shape)\n",
        "print(\"x_test shape\", x_test.shape)\n",
        "print(\"y_test shape\", y_test.shape)\n",
        "\n",
        "plt.imshow(x_train[1], cmap=plt.cm.gray_r, interpolation=\"nearest\")"
      ],
      "metadata": {
        "colab": {
          "base_uri": "https://localhost:8080/",
          "height": 356
        },
        "id": "GiuxuxeTcaZd",
        "outputId": "3e42dd18-baa3-4552-e73a-e9e707c62877"
      },
      "execution_count": null,
      "outputs": [
        {
          "output_type": "stream",
          "name": "stdout",
          "text": [
            "x_train shape (60000, 28, 28)\n",
            "y_train shape (60000,)\n",
            "x_test shape (10000, 28, 28)\n",
            "y_test shape (10000,)\n"
          ]
        },
        {
          "output_type": "execute_result",
          "data": {
            "text/plain": [
              "<matplotlib.image.AxesImage at 0x7f7c34589ed0>"
            ]
          },
          "metadata": {},
          "execution_count": 14
        },
        {
          "output_type": "display_data",
          "data": {
            "image/png": "[encoded data removed]",
            "text/plain": [
              "<Figure size 432x288 with 1 Axes>"
            ]
          },
          "metadata": {
            "needs_background": "light"
          }
        }
      ]
    },
    {
      "cell_type": "code",
      "source": [
        "X_train = x_train.reshape(60000, 784)\n",
        "X_test = x_test.reshape(10000, 784)\n",
        "X_train = X_train.astype('float32')\n",
        "X_test = X_test.astype('float32')\n",
        "X_train = X_train / 255\n",
        "X_test = X_test / 255\n",
        "\n",
        "print(\"X Training matrix shape\", X_train.shape)\n",
        "print(\"X Testing matrix shape\", X_test.shape)\n"
      ],
      "metadata": {
        "colab": {
          "base_uri": "https://localhost:8080/"
        },
        "id": "7aOCwhpyhlhX",
        "outputId": "7f97ea82-2210-40c0-b633-24a86f4f89df"
      },
      "execution_count": null,
      "outputs": [
        {
          "output_type": "stream",
          "name": "stdout",
          "text": [
            "X Training matrix shape (60000, 784)\n",
            "X Testing matrix shape (10000, 784)\n"
          ]
        }
      ]
    },
    {
      "cell_type": "code",
      "source": [
        "Y_train = to_categorical(y_train, 10)\n",
        "Y_test = to_categorical(y_test, 10)\n",
        "\n",
        "print(\"Y Training matrix shape\", Y_train.shape)\n",
        "print(\"Y Testing matrix shape\", Y_test.shape)\n",
        "print(\"Y_train[0] : \", Y_train[1])\n",
        "print(\"Y_test[0] : \", Y_test[0])"
      ],
      "metadata": {
        "colab": {
          "base_uri": "https://localhost:8080/"
        },
        "id": "xMK6Sgi8nf7q",
        "outputId": "6a6c1444-71f3-4f3c-803a-840fae981ace"
      },
      "execution_count": null,
      "outputs": [
        {
          "output_type": "stream",
          "name": "stdout",
          "text": [
            "Y Training matrix shape (60000, 10)\n",
            "Y Testing matrix shape (10000, 10)\n",
            "Y_train[0] :  [1. 0. 0. 0. 0. 0. 0. 0. 0. 0.]\n",
            "Y_test[0] :  [0. 0. 0. 0. 0. 0. 0. 1. 0. 0.]\n"
          ]
        }
      ]
    },
    {
      "cell_type": "code",
      "source": [
        "model = Sequential()\n",
        "model.add(Dense(512, input_shape=(784,)))\n",
        "model.add(Activation('relu'))\n",
        "model.add(Dense(256))\n",
        "model.add(Activation('relu'))\n",
        "model.add(Dense(10))\n",
        "model.add(Activation('softmax'))\n",
        "model.summary()"
      ],
      "metadata": {
        "colab": {
          "base_uri": "https://localhost:8080/"
        },
        "id": "8oa4QUBRsQwg",
        "outputId": "558778a2-7206-4e2d-cfb1-714a6c3a4220"
      },
      "execution_count": null,
      "outputs": [
        {
          "output_type": "stream",
          "name": "stdout",
          "text": [
            "Model: \"sequential\"\n",
            "_________________________________________________________________\n",
            " Layer (type)                Output Shape              Param #   \n",
            "=================================================================\n",
            " dense (Dense)               (None, 512)               401920    \n",
            "                                                                 \n",
            " activation (Activation)     (None, 512)               0         \n",
            "                                                                 \n",
            " dense_1 (Dense)             (None, 256)               131328    \n",
            "                                                                 \n",
            " activation_1 (Activation)   (None, 256)               0         \n",
            "                                                                 \n",
            " dense_2 (Dense)             (None, 10)                2570      \n",
            "                                                                 \n",
            " activation_2 (Activation)   (None, 10)                0         \n",
            "                                                                 \n",
            "=================================================================\n",
            "Total params: 535,818\n",
            "Trainable params: 535,818\n",
            "Non-trainable params: 0\n",
            "_________________________________________________________________\n"
          ]
        }
      ]
    },
    {
      "cell_type": "code",
      "source": [
        "model.compile(loss='categorical_crossentropy', optimizer='adam', metrics = ['accuracy'])\n",
        "model.fit(X_train, Y_train, batch_size=128, epochs=10, verbose=1)"
      ],
      "metadata": {
        "colab": {
          "base_uri": "https://localhost:8080/"
        },
        "id": "AGeTzoFiwGLG",
        "outputId": "f8f34d28-5c3b-4417-ec22-71f153bb1e21"
      },
      "execution_count": null,
      "outputs": [
        {
          "output_type": "stream",
          "name": "stdout",
          "text": [
            "Epoch 1/10\n",
            "469/469 [==============================] - 3s 3ms/step - loss: 0.2235 - accuracy: 0.9350\n",
            "Epoch 2/10\n",
            "469/469 [==============================] - 1s 3ms/step - loss: 0.0834 - accuracy: 0.9745\n",
            "Epoch 3/10\n",
            "469/469 [==============================] - 1s 3ms/step - loss: 0.0525 - accuracy: 0.9836\n",
            "Epoch 4/10\n",
            "469/469 [==============================] - 1s 3ms/step - loss: 0.0384 - accuracy: 0.9875\n",
            "Epoch 5/10\n",
            "469/469 [==============================] - 1s 3ms/step - loss: 0.0267 - accuracy: 0.9916\n",
            "Epoch 6/10\n",
            "469/469 [==============================] - 1s 3ms/step - loss: 0.0236 - accuracy: 0.9922\n",
            "Epoch 7/10\n",
            "469/469 [==============================] - 1s 3ms/step - loss: 0.0174 - accuracy: 0.9944\n",
            "Epoch 8/10\n",
            "469/469 [==============================] - 1s 3ms/step - loss: 0.0154 - accuracy: 0.9945\n",
            "Epoch 9/10\n",
            "469/469 [==============================] - 1s 3ms/step - loss: 0.0162 - accuracy: 0.9944\n",
            "Epoch 10/10\n",
            "469/469 [==============================] - 1s 3ms/step - loss: 0.0128 - accuracy: 0.9959\n"
          ]
        },
        {
          "output_type": "execute_result",
          "data": {
            "text/plain": [
              "<keras.callbacks.History at 0x7f7ce00a9050>"
            ]
          },
          "metadata": {},
          "execution_count": 7
        }
      ]
    },
    {
      "cell_type": "code",
      "source": [
        "score = model.evaluate(X_test, Y_test)\n",
        "\n",
        "print('Test loss : ', score[0])\n",
        "print('Test accuracy : ', score[1])\n"
      ],
      "metadata": {
        "id": "APwfLQSwMYXu",
        "colab": {
          "base_uri": "https://localhost:8080/"
        },
        "outputId": "1854320c-8c95-4d7b-e7b1-407e98dd69dd"
      },
      "execution_count": null,
      "outputs": [
        {
          "output_type": "stream",
          "name": "stdout",
          "text": [
            "313/313 [==============================] - 1s 2ms/step - loss: 0.0721 - accuracy: 0.9803\n",
            "Test loss :  0.07206504791975021\n",
            "Test accuracy :  0.9803000092506409\n"
          ]
        }
      ]
    },
    {
      "cell_type": "code",
      "execution_count": null,
      "metadata": {
        "id": "kCPzWaIGkASU",
        "colab": {
          "base_uri": "https://localhost:8080/"
        },
        "outputId": "efa20e48-34a5-44c9-d5e5-7e8eeace8fd8"
      },
      "outputs": [
        {
          "output_type": "stream",
          "name": "stdout",
          "text": [
            "[7 2 1 ... 4 5 6]\n",
            "[   0    1    2 ... 9997 9998 9999]\n",
            "[ 151  158  217  247  321  340  445  449  457  582  583  619  659  720\n",
            "  882  900  947  956 1014 1112 1156 1182 1194 1226 1232 1242 1247 1299\n",
            " 1319 1393 1522 1527 1530 1549 1553 1554 1587 1609 1621 1626 1681 1748\n",
            " 1751 1790 1878 1901 1913 1941 1982 1984 2004 2018 2033 2043 2053 2098\n",
            " 2109 2129 2130 2135 2148 2182 2293 2369 2387 2406 2414 2426 2488 2597\n",
            " 2607 2648 2654 2720 2730 2810 2877 2921 2927 2939 2995 3073 3117 3218\n",
            " 3225 3284 3342 3383 3405 3490 3503 3520 3549 3558 3727 3780 3853 3893\n",
            " 3906 3941 4063 4065 4163 4176 4199 4201 4224 4248 4271 4289 4437 4443\n",
            " 4497 4536 4548 4551 4807 4814 4823 4838 4860 4880 4956 5046 5078 5140\n",
            " 5203 5457 5642 5676 5734 5745 5757 5887 5936 5937 5955 5973 5982 6011\n",
            " 6023 6046 6059 6166 6173 6421 6555 6558 6559 6571 6572 6574 6597 6625\n",
            " 6641 6651 6755 6783 6847 7216 7258 7434 7472 7800 7821 7902 7915 8020\n",
            " 8094 8243 8246 8277 8325 8527 9009 9015 9024 9163 9540 9587 9634 9664\n",
            " 9669 9679 9692 9729 9742 9745 9768 9770 9782 9792 9839 9850 9858 9904\n",
            " 9944]\n"
          ]
        }
      ],
      "source": [
        "predicted_classes = np.argmax(model.predict(X_test), axis=1)\n",
        "correct_indices = np.nonzero(predicted_classes == y_test)[0]\n",
        "incorrect_indices = np.nonzero(predicted_classes != y_test)[0]\n",
        "\n",
        "print(predicted_classes)\n",
        "print(correct_indices)\n",
        "print(incorrect_indices)"
      ]
    },
    {
      "cell_type": "code",
      "source": [
        "plt.figure()\n",
        "for i in range(9):\n",
        "  plt.subplot(3,3, i+1)\n",
        "  correct = correct_indices[i]\n",
        "  plt.imshow(X_test[correct].reshape(28, 28), cmap=\"gray\")\n",
        "  plt.title(\"Predicated{}, Class{}\".format(predicted_classes[correct], y_test[correct]))\n",
        "\n",
        "plt.tight_layout()"
      ],
      "metadata": {
        "colab": {
          "base_uri": "https://localhost:8080/",
          "height": 297
        },
        "id": "sfEuElhdsTl9",
        "outputId": "e8321737-411b-4f8f-8af6-9439e38ffc8e"
      },
      "execution_count": null,
      "outputs": [
        {
          "output_type": "display_data",
          "data": {
            "image/png": "[encoded data removed]",
            "text/plain": [
              "<Figure size 432x288 with 9 Axes>"
            ]
          },
          "metadata": {
            "needs_background": "light"
          }
        }
      ]
    },
    {
      "cell_type": "code",
      "source": [
        "plt.figure()\n",
        "for i in range(9):\n",
        "  plt.subplot(3,3, i+1)\n",
        "  incorrect = incorrect_indices[i]\n",
        "  plt.imshow(X_test[incorrect].reshape(28, 28), cmap=\"gray\")\n",
        "  plt.title(\"Predicated{}, Class{}\".format(predicted_classes[incorrect], y_test[incorrect]))\n",
        "\n",
        "plt.tight_layout()"
      ],
      "metadata": {
        "colab": {
          "base_uri": "https://localhost:8080/",
          "height": 297
        },
        "id": "Yngkt4i6upbf",
        "outputId": "7bfd8bb1-5057-4771-9aec-0288a560c7dd"
      },
      "execution_count": null,
      "outputs": [
        {
          "output_type": "display_data",
          "data": {
            "image/png": "[encoded data removed]",
            "text/plain": [
              "<Figure size 432x288 with 9 Axes>"
            ]
          },
          "metadata": {
            "needs_background": "light"
          }
        }
      ]
    },
    {
      "cell_type": "code",
      "source": [
        "from keras.models import load_model\n",
        "\n",
        "model.save('mnist_model.h5')"
      ],
      "metadata": {
        "id": "U5a3sKYL0raz"
      },
      "execution_count": null,
      "outputs": []
    },
    {
      "cell_type": "code",
      "source": [
        "from IPython.display import SVG\n",
        "from keras.utils.vis_utils import model_to_dot\n",
        "\n",
        "SVG(model_to_dot(model, show_shapes=True).create(prog='dot', format='svg'))"
      ],
      "metadata": {
        "colab": {
          "base_uri": "https://localhost:8080/",
          "height": 1000
        },
        "id": "m_suE2tL14Tv",
        "outputId": "6847ae4e-a617-4c56-e64a-62cd3be85ca9"
      },
      "execution_count": null,
      "outputs": [
        {
          "output_type": "execute_result",
          "data": {
            "text/plain": [
              "<IPython.core.display.SVG object>"
            ],
            "image/svg+xml": "<svg height=\"737pt\" viewBox=\"0.00 0.00 328.00 553.00\" width=\"437pt\" xmlns=\"http://www.w3.org/2000/svg\" xmlns:xlink=\"http://www.w3.org/1999/xlink\">\n<g class=\"graph\" id=\"graph0\" transform=\"scale(1.3333 1.3333) rotate(0) translate(4 549)\">\n<title>G</title>\n<polygon fill=\"#ffffff\" points=\"-4,4 -4,-549 324,-549 324,4 -4,4\" stroke=\"transparent\"/>\n<!-- 140174681540752 -->\n<g class=\"node\" id=\"node1\">\n<title>140174681540752</title>\n<polygon fill=\"none\" points=\"0,-498.5 0,-544.5 320,-544.5 320,-498.5 0,-498.5\" stroke=\"#000000\"/>\n<text fill=\"#000000\" font-family=\"Times,serif\" font-size=\"14.00\" text-anchor=\"middle\" x=\"43\" y=\"-517.8\">dense_input</text>\n<polyline fill=\"none\" points=\"86,-498.5 86,-544.5 \" stroke=\"#000000\"/>\n<text fill=\"#000000\" font-family=\"Times,serif\" font-size=\"14.00\" text-anchor=\"middle\" x=\"126\" y=\"-517.8\">InputLayer</text>\n<polyline fill=\"none\" points=\"166,-498.5 166,-544.5 \" stroke=\"#000000\"/>\n<text fill=\"#000000\" font-family=\"Times,serif\" font-size=\"14.00\" text-anchor=\"middle\" x=\"195\" y=\"-529.3\">input:</text>\n<polyline fill=\"none\" points=\"166,-521.5 224,-521.5 \" stroke=\"#000000\"/>\n<text fill=\"#000000\" font-family=\"Times,serif\" font-size=\"14.00\" text-anchor=\"middle\" x=\"195\" y=\"-506.3\">output:</text>\n<polyline fill=\"none\" points=\"224,-498.5 224,-544.5 \" stroke=\"#000000\"/>\n<text fill=\"#000000\" font-family=\"Times,serif\" font-size=\"14.00\" text-anchor=\"middle\" x=\"272\" y=\"-529.3\">[(None, 784)]</text>\n<polyline fill=\"none\" points=\"224,-521.5 320,-521.5 \" stroke=\"#000000\"/>\n<text fill=\"#000000\" font-family=\"Times,serif\" font-size=\"14.00\" text-anchor=\"middle\" x=\"272\" y=\"-506.3\">[(None, 784)]</text>\n</g>\n<!-- 140174677521744 -->\n<g class=\"node\" id=\"node2\">\n<title>140174677521744</title>\n<polygon fill=\"none\" points=\"37,-415.5 37,-461.5 283,-461.5 283,-415.5 37,-415.5\" stroke=\"#000000\"/>\n<text fill=\"#000000\" font-family=\"Times,serif\" font-size=\"14.00\" text-anchor=\"middle\" x=\"61.5\" y=\"-434.8\">dense</text>\n<polyline fill=\"none\" points=\"86,-415.5 86,-461.5 \" stroke=\"#000000\"/>\n<text fill=\"#000000\" font-family=\"Times,serif\" font-size=\"14.00\" text-anchor=\"middle\" x=\"112\" y=\"-434.8\">Dense</text>\n<polyline fill=\"none\" points=\"138,-415.5 138,-461.5 \" stroke=\"#000000\"/>\n<text fill=\"#000000\" font-family=\"Times,serif\" font-size=\"14.00\" text-anchor=\"middle\" x=\"167\" y=\"-446.3\">input:</text>\n<polyline fill=\"none\" points=\"138,-438.5 196,-438.5 \" stroke=\"#000000\"/>\n<text fill=\"#000000\" font-family=\"Times,serif\" font-size=\"14.00\" text-anchor=\"middle\" x=\"167\" y=\"-423.3\">output:</text>\n<polyline fill=\"none\" points=\"196,-415.5 196,-461.5 \" stroke=\"#000000\"/>\n<text fill=\"#000000\" font-family=\"Times,serif\" font-size=\"14.00\" text-anchor=\"middle\" x=\"239.5\" y=\"-446.3\">(None, 784)</text>\n<polyline fill=\"none\" points=\"196,-438.5 283,-438.5 \" stroke=\"#000000\"/>\n<text fill=\"#000000\" font-family=\"Times,serif\" font-size=\"14.00\" text-anchor=\"middle\" x=\"239.5\" y=\"-423.3\">(None, 512)</text>\n</g>\n<!-- 140174681540752&#45;&gt;140174677521744 -->\n<g class=\"edge\" id=\"edge1\">\n<title>140174681540752-&gt;140174677521744</title>\n<path d=\"M160,-498.3799C160,-490.1745 160,-480.7679 160,-471.8786\" fill=\"none\" stroke=\"#000000\"/>\n<polygon fill=\"#000000\" points=\"163.5001,-471.784 160,-461.784 156.5001,-471.784 163.5001,-471.784\" stroke=\"#000000\"/>\n</g>\n<!-- 140174677520720 -->\n<g class=\"node\" id=\"node3\">\n<title>140174677520720</title>\n<polygon fill=\"none\" points=\"13,-332.5 13,-378.5 307,-378.5 307,-332.5 13,-332.5\" stroke=\"#000000\"/>\n<text fill=\"#000000\" font-family=\"Times,serif\" font-size=\"14.00\" text-anchor=\"middle\" x=\"49\" y=\"-351.8\">activation</text>\n<polyline fill=\"none\" points=\"85,-332.5 85,-378.5 \" stroke=\"#000000\"/>\n<text fill=\"#000000\" font-family=\"Times,serif\" font-size=\"14.00\" text-anchor=\"middle\" x=\"123.5\" y=\"-351.8\">Activation</text>\n<polyline fill=\"none\" points=\"162,-332.5 162,-378.5 \" stroke=\"#000000\"/>\n<text fill=\"#000000\" font-family=\"Times,serif\" font-size=\"14.00\" text-anchor=\"middle\" x=\"191\" y=\"-363.3\">input:</text>\n<polyline fill=\"none\" points=\"162,-355.5 220,-355.5 \" stroke=\"#000000\"/>\n<text fill=\"#000000\" font-family=\"Times,serif\" font-size=\"14.00\" text-anchor=\"middle\" x=\"191\" y=\"-340.3\">output:</text>\n<polyline fill=\"none\" points=\"220,-332.5 220,-378.5 \" stroke=\"#000000\"/>\n<text fill=\"#000000\" font-family=\"Times,serif\" font-size=\"14.00\" text-anchor=\"middle\" x=\"263.5\" y=\"-363.3\">(None, 512)</text>\n<polyline fill=\"none\" points=\"220,-355.5 307,-355.5 \" stroke=\"#000000\"/>\n<text fill=\"#000000\" font-family=\"Times,serif\" font-size=\"14.00\" text-anchor=\"middle\" x=\"263.5\" y=\"-340.3\">(None, 512)</text>\n</g>\n<!-- 140174677521744&#45;&gt;140174677520720 -->\n<g class=\"edge\" id=\"edge2\">\n<title>140174677521744-&gt;140174677520720</title>\n<path d=\"M160,-415.3799C160,-407.1745 160,-397.7679 160,-388.8786\" fill=\"none\" stroke=\"#000000\"/>\n<polygon fill=\"#000000\" points=\"163.5001,-388.784 160,-378.784 156.5001,-388.784 163.5001,-388.784\" stroke=\"#000000\"/>\n</g>\n<!-- 140174677304848 -->\n<g class=\"node\" id=\"node4\">\n<title>140174677304848</title>\n<polygon fill=\"none\" points=\"29.5,-249.5 29.5,-295.5 290.5,-295.5 290.5,-249.5 29.5,-249.5\" stroke=\"#000000\"/>\n<text fill=\"#000000\" font-family=\"Times,serif\" font-size=\"14.00\" text-anchor=\"middle\" x=\"61.5\" y=\"-268.8\">dense_1</text>\n<polyline fill=\"none\" points=\"93.5,-249.5 93.5,-295.5 \" stroke=\"#000000\"/>\n<text fill=\"#000000\" font-family=\"Times,serif\" font-size=\"14.00\" text-anchor=\"middle\" x=\"119.5\" y=\"-268.8\">Dense</text>\n<polyline fill=\"none\" points=\"145.5,-249.5 145.5,-295.5 \" stroke=\"#000000\"/>\n<text fill=\"#000000\" font-family=\"Times,serif\" font-size=\"14.00\" text-anchor=\"middle\" x=\"174.5\" y=\"-280.3\">input:</text>\n<polyline fill=\"none\" points=\"145.5,-272.5 203.5,-272.5 \" stroke=\"#000000\"/>\n<text fill=\"#000000\" font-family=\"Times,serif\" font-size=\"14.00\" text-anchor=\"middle\" x=\"174.5\" y=\"-257.3\">output:</text>\n<polyline fill=\"none\" points=\"203.5,-249.5 203.5,-295.5 \" stroke=\"#000000\"/>\n<text fill=\"#000000\" font-family=\"Times,serif\" font-size=\"14.00\" text-anchor=\"middle\" x=\"247\" y=\"-280.3\">(None, 512)</text>\n<polyline fill=\"none\" points=\"203.5,-272.5 290.5,-272.5 \" stroke=\"#000000\"/>\n<text fill=\"#000000\" font-family=\"Times,serif\" font-size=\"14.00\" text-anchor=\"middle\" x=\"247\" y=\"-257.3\">(None, 256)</text>\n</g>\n<!-- 140174677520720&#45;&gt;140174677304848 -->\n<g class=\"edge\" id=\"edge3\">\n<title>140174677520720-&gt;140174677304848</title>\n<path d=\"M160,-332.3799C160,-324.1745 160,-314.7679 160,-305.8786\" fill=\"none\" stroke=\"#000000\"/>\n<polygon fill=\"#000000\" points=\"163.5001,-305.784 160,-295.784 156.5001,-305.784 163.5001,-305.784\" stroke=\"#000000\"/>\n</g>\n<!-- 140174677305424 -->\n<g class=\"node\" id=\"node5\">\n<title>140174677305424</title>\n<polygon fill=\"none\" points=\"5.5,-166.5 5.5,-212.5 314.5,-212.5 314.5,-166.5 5.5,-166.5\" stroke=\"#000000\"/>\n<text fill=\"#000000\" font-family=\"Times,serif\" font-size=\"14.00\" text-anchor=\"middle\" x=\"49\" y=\"-185.8\">activation_1</text>\n<polyline fill=\"none\" points=\"92.5,-166.5 92.5,-212.5 \" stroke=\"#000000\"/>\n<text fill=\"#000000\" font-family=\"Times,serif\" font-size=\"14.00\" text-anchor=\"middle\" x=\"131\" y=\"-185.8\">Activation</text>\n<polyline fill=\"none\" points=\"169.5,-166.5 169.5,-212.5 \" stroke=\"#000000\"/>\n<text fill=\"#000000\" font-family=\"Times,serif\" font-size=\"14.00\" text-anchor=\"middle\" x=\"198.5\" y=\"-197.3\">input:</text>\n<polyline fill=\"none\" points=\"169.5,-189.5 227.5,-189.5 \" stroke=\"#000000\"/>\n<text fill=\"#000000\" font-family=\"Times,serif\" font-size=\"14.00\" text-anchor=\"middle\" x=\"198.5\" y=\"-174.3\">output:</text>\n<polyline fill=\"none\" points=\"227.5,-166.5 227.5,-212.5 \" stroke=\"#000000\"/>\n<text fill=\"#000000\" font-family=\"Times,serif\" font-size=\"14.00\" text-anchor=\"middle\" x=\"271\" y=\"-197.3\">(None, 256)</text>\n<polyline fill=\"none\" points=\"227.5,-189.5 314.5,-189.5 \" stroke=\"#000000\"/>\n<text fill=\"#000000\" font-family=\"Times,serif\" font-size=\"14.00\" text-anchor=\"middle\" x=\"271\" y=\"-174.3\">(None, 256)</text>\n</g>\n<!-- 140174677304848&#45;&gt;140174677305424 -->\n<g class=\"edge\" id=\"edge4\">\n<title>140174677304848-&gt;140174677305424</title>\n<path d=\"M160,-249.3799C160,-241.1745 160,-231.7679 160,-222.8786\" fill=\"none\" stroke=\"#000000\"/>\n<polygon fill=\"#000000\" points=\"163.5001,-222.784 160,-212.784 156.5001,-222.784 163.5001,-222.784\" stroke=\"#000000\"/>\n</g>\n<!-- 140174312583760 -->\n<g class=\"node\" id=\"node6\">\n<title>140174312583760</title>\n<polygon fill=\"none\" points=\"29.5,-83.5 29.5,-129.5 290.5,-129.5 290.5,-83.5 29.5,-83.5\" stroke=\"#000000\"/>\n<text fill=\"#000000\" font-family=\"Times,serif\" font-size=\"14.00\" text-anchor=\"middle\" x=\"61.5\" y=\"-102.8\">dense_2</text>\n<polyline fill=\"none\" points=\"93.5,-83.5 93.5,-129.5 \" stroke=\"#000000\"/>\n<text fill=\"#000000\" font-family=\"Times,serif\" font-size=\"14.00\" text-anchor=\"middle\" x=\"119.5\" y=\"-102.8\">Dense</text>\n<polyline fill=\"none\" points=\"145.5,-83.5 145.5,-129.5 \" stroke=\"#000000\"/>\n<text fill=\"#000000\" font-family=\"Times,serif\" font-size=\"14.00\" text-anchor=\"middle\" x=\"174.5\" y=\"-114.3\">input:</text>\n<polyline fill=\"none\" points=\"145.5,-106.5 203.5,-106.5 \" stroke=\"#000000\"/>\n<text fill=\"#000000\" font-family=\"Times,serif\" font-size=\"14.00\" text-anchor=\"middle\" x=\"174.5\" y=\"-91.3\">output:</text>\n<polyline fill=\"none\" points=\"203.5,-83.5 203.5,-129.5 \" stroke=\"#000000\"/>\n<text fill=\"#000000\" font-family=\"Times,serif\" font-size=\"14.00\" text-anchor=\"middle\" x=\"247\" y=\"-114.3\">(None, 256)</text>\n<polyline fill=\"none\" points=\"203.5,-106.5 290.5,-106.5 \" stroke=\"#000000\"/>\n<text fill=\"#000000\" font-family=\"Times,serif\" font-size=\"14.00\" text-anchor=\"middle\" x=\"247\" y=\"-91.3\">(None, 10)</text>\n</g>\n<!-- 140174677305424&#45;&gt;140174312583760 -->\n<g class=\"edge\" id=\"edge5\">\n<title>140174677305424-&gt;140174312583760</title>\n<path d=\"M160,-166.3799C160,-158.1745 160,-148.7679 160,-139.8786\" fill=\"none\" stroke=\"#000000\"/>\n<polygon fill=\"#000000\" points=\"163.5001,-139.784 160,-129.784 156.5001,-139.784 163.5001,-139.784\" stroke=\"#000000\"/>\n</g>\n<!-- 140174312564112 -->\n<g class=\"node\" id=\"node7\">\n<title>140174312564112</title>\n<polygon fill=\"none\" points=\"9,-.5 9,-46.5 311,-46.5 311,-.5 9,-.5\" stroke=\"#000000\"/>\n<text fill=\"#000000\" font-family=\"Times,serif\" font-size=\"14.00\" text-anchor=\"middle\" x=\"52.5\" y=\"-19.8\">activation_2</text>\n<polyline fill=\"none\" points=\"96,-.5 96,-46.5 \" stroke=\"#000000\"/>\n<text fill=\"#000000\" font-family=\"Times,serif\" font-size=\"14.00\" text-anchor=\"middle\" x=\"134.5\" y=\"-19.8\">Activation</text>\n<polyline fill=\"none\" points=\"173,-.5 173,-46.5 \" stroke=\"#000000\"/>\n<text fill=\"#000000\" font-family=\"Times,serif\" font-size=\"14.00\" text-anchor=\"middle\" x=\"202\" y=\"-31.3\">input:</text>\n<polyline fill=\"none\" points=\"173,-23.5 231,-23.5 \" stroke=\"#000000\"/>\n<text fill=\"#000000\" font-family=\"Times,serif\" font-size=\"14.00\" text-anchor=\"middle\" x=\"202\" y=\"-8.3\">output:</text>\n<polyline fill=\"none\" points=\"231,-.5 231,-46.5 \" stroke=\"#000000\"/>\n<text fill=\"#000000\" font-family=\"Times,serif\" font-size=\"14.00\" text-anchor=\"middle\" x=\"271\" y=\"-31.3\">(None, 10)</text>\n<polyline fill=\"none\" points=\"231,-23.5 311,-23.5 \" stroke=\"#000000\"/>\n<text fill=\"#000000\" font-family=\"Times,serif\" font-size=\"14.00\" text-anchor=\"middle\" x=\"271\" y=\"-8.3\">(None, 10)</text>\n</g>\n<!-- 140174312583760&#45;&gt;140174312564112 -->\n<g class=\"edge\" id=\"edge6\">\n<title>140174312583760-&gt;140174312564112</title>\n<path d=\"M160,-83.3799C160,-75.1745 160,-65.7679 160,-56.8786\" fill=\"none\" stroke=\"#000000\"/>\n<polygon fill=\"#000000\" points=\"163.5001,-56.784 160,-46.784 156.5001,-56.784 163.5001,-56.784\" stroke=\"#000000\"/>\n</g>\n</g>\n</svg>"
          },
          "metadata": {},
          "execution_count": 23
        }
      ]
    },
    {
      "cell_type": "code",
      "source": [
        "from keras.utils import np_utils\n",
        "from keras.datasets import mnist\n",
        "from keras.models import Sequential\n",
        "from keras.layers import Dense, Activation\n",
        "import numpy as np\n",
        "from numpy import argmax\n",
        "\n",
        "#데이터 준비\n",
        "(x_train, y_train), (x_test, y_test) = mnist.load_data()\n",
        "x_test = x_test.reshape(10000, 784).astype('float32') / 255.0\n",
        "y_test = np_utils.to_categorical(y_test)\n",
        "xhat_idx = np.random.choice(x_test.shape[0], 5)\n",
        "xhat = x_test[xhat_idx]\n",
        "\n",
        "#모델 불러오기\n",
        "from keras.models import load_model\n",
        "model = load_model('mnist_model.h5')\n",
        "\n",
        "#모델 사용하기\n",
        "y_prob = model.predict(xhat, verbose = 0)\n",
        "yhat = y_prob.argmax(axis=1)\n",
        "\n",
        "for i in range(5):\n",
        "  print('Predict : ' + str(yhat[i]) + ', ' + str(argmax(y_test[xhat_idx[i]])))\n"
      ],
      "metadata": {
        "colab": {
          "base_uri": "https://localhost:8080/"
        },
        "id": "11oCLRBT3cgL",
        "outputId": "dc1a5836-d5c2-47b7-cf41-c950d53b58ba"
      },
      "execution_count": null,
      "outputs": [
        {
          "output_type": "stream",
          "name": "stdout",
          "text": [
            "Predict : 0, 0\n",
            "Predict : 2, 2\n",
            "Predict : 0, 0\n",
            "Predict : 7, 7\n",
            "Predict : 5, 5\n"
          ]
        }
      ]
    }
  ]
}