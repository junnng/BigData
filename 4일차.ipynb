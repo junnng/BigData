{
 "cells": [
  {
   "cell_type": "code",
   "execution_count": 8,
   "id": "ae2dfb86",
   "metadata": {},
   "outputs": [
    {
     "name": "stdout",
     "output_type": "stream",
     "text": [
      "서로 사랑하라\n",
      "허나 사랑에 속박되지는 말라\n",
      "\n",
      "차라리 그대들 영혼의 기슭 사이엔\n",
      "출렁이는 바다를 놓아두라\n",
      "\n",
      "서로의 잔을 채우되\n",
      "어느 한편의 잔만을 마시지는 말라\n",
      "\n",
      "서로 저희의 빵을 주되\n",
      "어느 한편의 빵만을 먹지 말라\n",
      "\n",
      "함께 노래하고 춤추며 즐거워하되\n",
      "그대들 각자는 고독하게 하라\n",
      "\n",
      "칼릴 지브란 <서로 사랑하라> 중\n"
     ]
    }
   ],
   "source": [
    "fName='poem.txt'\n",
    "\n",
    "fp=open(fName,\"r\") #encoding 설정 조심 utf로 하면 enc\n",
    "print(fp.read())\n",
    "fp.close()"
   ]
  },
  {
   "cell_type": "code",
   "execution_count": 13,
   "id": "73796324",
   "metadata": {},
   "outputs": [
    {
     "name": "stdout",
     "output_type": "stream",
     "text": [
      "서로 사랑하라\n",
      "\n",
      "허나 사랑에 속박되지는 말라\n",
      "\n",
      "\n",
      "\n",
      "차라리 그대들 영혼의 기슭 사이엔\n",
      "\n",
      "출렁이는 바다를 놓아두라\n",
      "\n",
      "\n",
      "\n",
      "서로의 잔을 채우되\n",
      "\n",
      "어느 한편의 잔만을 마시지는 말라\n",
      "\n",
      "\n",
      "\n",
      "서로 저희의 빵을 주되\n",
      "\n",
      "어느 한편의 빵만을 먹지 말라\n",
      "\n",
      "\n",
      "\n",
      "함께 노래하고 춤추며 즐거워하되\n",
      "\n",
      "그대들 각자는 고독하게 하라\n",
      "\n",
      "\n",
      "\n",
      "칼릴 지브란 <서로 사랑하라> 중\n"
     ]
    }
   ],
   "source": [
    "fName='poem.txt'\n",
    "\n",
    "fp=open(fName,\"rt\")\n",
    "\n",
    "while True:\n",
    "    strline=fp.readline()\n",
    "    if strline == '': #null값이 있으면 중지 \n",
    "        break;\n",
    "    print(strline)\n",
    "\n",
    "fp.close()"
   ]
  },
  {
   "cell_type": "code",
   "execution_count": 14,
   "id": "67a5f998",
   "metadata": {},
   "outputs": [
    {
     "name": "stdout",
     "output_type": "stream",
     "text": [
      "['서로 사랑하라\\n', '허나 사랑에 속박되지는 말라\\n', '\\n', '차라리 그대들 영혼의 기슭 사이엔\\n', '출렁이는 바다를 놓아두라\\n', '\\n', '서로의 잔을 채우되\\n', '어느 한편의 잔만을 마시지는 말라\\n', '\\n', '서로 저희의 빵을 주되\\n', '어느 한편의 빵만을 먹지 말라\\n', '\\n', '함께 노래하고 춤추며 즐거워하되\\n', '그대들 각자는 고독하게 하라\\n', '\\n', '칼릴 지브란 <서로 사랑하라> 중']\n"
     ]
    }
   ],
   "source": [
    "fName='poem.txt'\n",
    "\n",
    "fp=open(fName,\"rt\")\n",
    "\n",
    "strline=fp.readlines() #list 형태로 return\n",
    "print(strline)\n",
    "\n",
    "fp.close()"
   ]
  },
  {
   "cell_type": "code",
   "execution_count": 15,
   "id": "fcd87144",
   "metadata": {},
   "outputs": [
    {
     "name": "stdout",
     "output_type": "stream",
     "text": [
      "서로 사랑하라\n",
      "\n",
      "허나 사랑에 속박되지는 말라\n",
      "\n",
      "\n",
      "\n",
      "차라리 그대들 영혼의 기슭 사이엔\n",
      "\n",
      "출렁이는 바다를 놓아두라\n",
      "\n",
      "\n",
      "\n",
      "서로의 잔을 채우되\n",
      "\n",
      "어느 한편의 잔만을 마시지는 말라\n",
      "\n",
      "\n",
      "\n",
      "서로 저희의 빵을 주되\n",
      "\n",
      "어느 한편의 빵만을 먹지 말라\n",
      "\n",
      "\n",
      "\n",
      "함께 노래하고 춤추며 즐거워하되\n",
      "\n",
      "그대들 각자는 고독하게 하라\n",
      "\n",
      "\n",
      "\n",
      "칼릴 지브란 <서로 사랑하라> 중\n"
     ]
    }
   ],
   "source": [
    "fName='poem.txt'\n",
    "\n",
    "fp=open(fName,\"rt\")\n",
    "\n",
    "strline=fp.readlines()\n",
    "\n",
    "for strlist in strline:\n",
    "    print(strlist)\n",
    "\n",
    "fp.close()"
   ]
  },
  {
   "cell_type": "code",
   "execution_count": 16,
   "id": "df0824df",
   "metadata": {},
   "outputs": [
    {
     "name": "stdout",
     "output_type": "stream",
     "text": [
      "파일명을 입력하세요 :poem.txt\n",
      "\n",
      "서로 사랑하라\n",
      "\n",
      "허나 사랑에 속박되지는 말라\n",
      "\n",
      "\n",
      "\n",
      "차라리 그대들 영혼의 기슭 사이엔\n",
      "\n",
      "출렁이는 바다를 놓아두라\n",
      "\n",
      "\n",
      "\n",
      "서로의 잔을 채우되\n",
      "\n",
      "어느 한편의 잔만을 마시지는 말라\n",
      "\n",
      "\n",
      "\n",
      "서로 저희의 빵을 주되\n",
      "\n",
      "어느 한편의 빵만을 먹지 말라\n",
      "\n",
      "\n",
      "\n",
      "함께 노래하고 춤추며 즐거워하되\n",
      "\n",
      "그대들 각자는 고독하게 하라\n",
      "\n",
      "\n",
      "\n",
      "칼릴 지브란 <서로 사랑하라> 중\n"
     ]
    }
   ],
   "source": [
    "import os\n",
    "\n",
    "fName=input('파일명을 입력하세요 :')\n",
    "print()\n",
    "\n",
    "#fp=open(fName,\"rt\")\n",
    "with open(fName,'r')as fp:\n",
    "    strline=fp.readlines()\n",
    "    for strlist in strline:\n",
    "        print(strlist)"
   ]
  },
  {
   "cell_type": "code",
   "execution_count": 20,
   "id": "cd528f60",
   "metadata": {},
   "outputs": [
    {
     "name": "stdout",
     "output_type": "stream",
     "text": [
      "데이터 입력 :별을 노래하는 마음으로\n",
      "데이터 입력 :모든 죽어가는 것을 사랑해야지\n",
      "데이터 입력 :그리고 나에게 주어진 길을\n",
      "데이터 입력 :걸어가야겠다\n",
      "데이터 입력 :\\q\n"
     ]
    }
   ],
   "source": [
    "fName='file.txt'\n",
    "\n",
    "with open(fName,'wt',encoding='utf8')as fp:\n",
    "    while True:\n",
    "        instr=input('데이터 입력 :')\n",
    "        \n",
    "        if instr ==\"\\q\":\n",
    "            break\n",
    "            \n",
    "        fp.writelines(instr+'\\n')"
   ]
  },
  {
   "cell_type": "code",
   "execution_count": 24,
   "id": "810ead80",
   "metadata": {},
   "outputs": [
    {
     "name": "stdout",
     "output_type": "stream",
     "text": [
      "file.txt 파일에서 desFile.txt로 복사하였습니다.\n"
     ]
    }
   ],
   "source": [
    "#파일 데이터 복사하기\n",
    "srcfile = 'file.txt'\n",
    "desfile='desFile.txt'\n",
    "\n",
    "sfp=open(srcfile,'r',encoding='utf8')\n",
    "dfp=open(desfile,'w',encoding='utf8')\n",
    "\n",
    "slist=sfp.readlines()\n",
    "for instr in slist:\n",
    "    dfp.writelines(instr)\n",
    "\n",
    "sfp.close()\n",
    "dfp.close()\n",
    "\n",
    "print('file.txt 파일에서 desFile.txt로 복사하였습니다.')"
   ]
  },
  {
   "cell_type": "code",
   "execution_count": 26,
   "id": "613c8386",
   "metadata": {},
   "outputs": [
    {
     "name": "stdout",
     "output_type": "stream",
     "text": [
      "sea.jpg 파일에서 seacopy.jpg로 복사하였습니다.\n"
     ]
    }
   ],
   "source": [
    "srcfile = 'sea.jpg'\n",
    "desfile='seacopy.jpg'\n",
    "\n",
    "sfp=open(srcfile,'rb')\n",
    "dfp=open(desfile,'wb')\n",
    "\n",
    "while True:\n",
    "    sbyte=sfp.read()\n",
    "    if not sbyte:\n",
    "        break\n",
    "    dfp.write(sbyte)\n",
    "\n",
    "sfp.close()\n",
    "dfp.close()\n",
    "\n",
    "print('sea.jpg 파일에서 seacopy.jpg로 복사하였습니다.')"
   ]
  },
  {
   "cell_type": "code",
   "execution_count": null,
   "id": "f33a1eb3",
   "metadata": {},
   "outputs": [],
   "source": []
  },
  {
   "cell_type": "code",
   "execution_count": null,
   "id": "2d683b11",
   "metadata": {},
   "outputs": [],
   "source": []
  },
  {
   "cell_type": "code",
   "execution_count": null,
   "id": "6d653fc1",
   "metadata": {},
   "outputs": [],
   "source": []
  },
  {
   "cell_type": "code",
   "execution_count": null,
   "id": "3a99441a",
   "metadata": {},
   "outputs": [],
   "source": []
  },
  {
   "cell_type": "code",
   "execution_count": null,
   "id": "07b25184",
   "metadata": {},
   "outputs": [],
   "source": []
  },
  {
   "cell_type": "code",
   "execution_count": null,
   "id": "c86d99ce",
   "metadata": {},
   "outputs": [],
   "source": []
  },
  {
   "cell_type": "code",
   "execution_count": null,
   "id": "f978f5fc",
   "metadata": {},
   "outputs": [],
   "source": []
  },
  {
   "cell_type": "code",
   "execution_count": null,
   "id": "3be2223a",
   "metadata": {},
   "outputs": [],
   "source": []
  },
  {
   "cell_type": "code",
   "execution_count": null,
   "id": "5747e219",
   "metadata": {},
   "outputs": [],
   "source": []
  },
  {
   "cell_type": "code",
   "execution_count": null,
   "id": "24cf4a19",
   "metadata": {},
   "outputs": [],
   "source": []
  },
  {
   "cell_type": "code",
   "execution_count": null,
   "id": "d252b92b",
   "metadata": {},
   "outputs": [],
   "source": []
  },
  {
   "cell_type": "code",
   "execution_count": null,
   "id": "301ad8b2",
   "metadata": {},
   "outputs": [],
   "source": []
  },
  {
   "cell_type": "code",
   "execution_count": null,
   "id": "c91e55b6",
   "metadata": {},
   "outputs": [],
   "source": []
  },
  {
   "cell_type": "code",
   "execution_count": null,
   "id": "686396ef",
   "metadata": {},
   "outputs": [],
   "source": []
  },
  {
   "cell_type": "code",
   "execution_count": null,
   "id": "37c82c84",
   "metadata": {},
   "outputs": [],
   "source": []
  },
  {
   "cell_type": "code",
   "execution_count": null,
   "id": "c43a54a0",
   "metadata": {},
   "outputs": [],
   "source": []
  },
  {
   "cell_type": "code",
   "execution_count": null,
   "id": "03e4d33d",
   "metadata": {},
   "outputs": [],
   "source": []
  },
  {
   "cell_type": "code",
   "execution_count": null,
   "id": "1828a601",
   "metadata": {},
   "outputs": [],
   "source": []
  },
  {
   "cell_type": "code",
   "execution_count": null,
   "id": "502364b3",
   "metadata": {},
   "outputs": [],
   "source": []
  },
  {
   "cell_type": "code",
   "execution_count": null,
   "id": "cab5e630",
   "metadata": {},
   "outputs": [],
   "source": []
  },
  {
   "cell_type": "code",
   "execution_count": null,
   "id": "5e7d6db0",
   "metadata": {},
   "outputs": [],
   "source": []
  },
  {
   "cell_type": "code",
   "execution_count": null,
   "id": "1a75a08c",
   "metadata": {},
   "outputs": [],
   "source": []
  },
  {
   "cell_type": "code",
   "execution_count": null,
   "id": "b19858cf",
   "metadata": {},
   "outputs": [],
   "source": []
  },
  {
   "cell_type": "code",
   "execution_count": null,
   "id": "a86fbb17",
   "metadata": {},
   "outputs": [],
   "source": []
  }
 ],
 "metadata": {
  "kernelspec": {
   "display_name": "Python 3",
   "language": "python",
   "name": "python3"
  }
 },
 "nbformat": 4,
 "nbformat_minor": 5
}
